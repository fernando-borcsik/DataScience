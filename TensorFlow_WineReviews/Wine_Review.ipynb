{
 "cells": [
  {
   "cell_type": "markdown",
   "id": "01700617",
   "metadata": {},
   "source": [
    "# Studying Neural Nets and Natural Language with TensorFlow - Wine_reviews DataSet\n",
    "\n",
    "## Let's create a neural net to predict wine review evaluation points based upon their description!\n",
    "\n",
    "### Data available at https://www.kaggle.com/datasets/zynicide/wine-reviews"
   ]
  },
  {
   "cell_type": "code",
   "execution_count": 1,
   "id": "40abe08c",
   "metadata": {},
   "outputs": [],
   "source": [
    "# Imports\n",
    "\n",
    "import numpy as np\n",
    "import pandas as pd\n",
    "import matplotlib.pyplot as plt\n",
    "import tensorflow as tf\n",
    "import tensorflow_hub as hub"
   ]
  },
  {
   "cell_type": "code",
   "execution_count": 2,
   "id": "b1448142",
   "metadata": {},
   "outputs": [],
   "source": [
    "# The main goal here is to learn and apply neural nets, so I will not be using every column\n",
    "\n",
    "df = pd.read_csv('wine-reviews.csv', usecols= ['country', 'description', 'points', 'price', \n",
    "                                               'variety', 'winery'])"
   ]
  },
  {
   "cell_type": "code",
   "execution_count": 3,
   "id": "4319b1d8",
   "metadata": {},
   "outputs": [
    {
     "data": {
      "text/html": [
       "<div>\n",
       "<style scoped>\n",
       "    .dataframe tbody tr th:only-of-type {\n",
       "        vertical-align: middle;\n",
       "    }\n",
       "\n",
       "    .dataframe tbody tr th {\n",
       "        vertical-align: top;\n",
       "    }\n",
       "\n",
       "    .dataframe thead th {\n",
       "        text-align: right;\n",
       "    }\n",
       "</style>\n",
       "<table border=\"1\" class=\"dataframe\">\n",
       "  <thead>\n",
       "    <tr style=\"text-align: right;\">\n",
       "      <th></th>\n",
       "      <th>country</th>\n",
       "      <th>description</th>\n",
       "      <th>points</th>\n",
       "      <th>price</th>\n",
       "      <th>variety</th>\n",
       "      <th>winery</th>\n",
       "    </tr>\n",
       "  </thead>\n",
       "  <tbody>\n",
       "    <tr>\n",
       "      <th>0</th>\n",
       "      <td>Italy</td>\n",
       "      <td>Aromas include tropical fruit, broom, brimston...</td>\n",
       "      <td>87</td>\n",
       "      <td>NaN</td>\n",
       "      <td>White Blend</td>\n",
       "      <td>Nicosia</td>\n",
       "    </tr>\n",
       "    <tr>\n",
       "      <th>1</th>\n",
       "      <td>Portugal</td>\n",
       "      <td>This is ripe and fruity, a wine that is smooth...</td>\n",
       "      <td>87</td>\n",
       "      <td>15.0</td>\n",
       "      <td>Portuguese Red</td>\n",
       "      <td>Quinta dos Avidagos</td>\n",
       "    </tr>\n",
       "    <tr>\n",
       "      <th>2</th>\n",
       "      <td>US</td>\n",
       "      <td>Tart and snappy, the flavors of lime flesh and...</td>\n",
       "      <td>87</td>\n",
       "      <td>14.0</td>\n",
       "      <td>Pinot Gris</td>\n",
       "      <td>Rainstorm</td>\n",
       "    </tr>\n",
       "    <tr>\n",
       "      <th>3</th>\n",
       "      <td>US</td>\n",
       "      <td>Pineapple rind, lemon pith and orange blossom ...</td>\n",
       "      <td>87</td>\n",
       "      <td>13.0</td>\n",
       "      <td>Riesling</td>\n",
       "      <td>St. Julian</td>\n",
       "    </tr>\n",
       "    <tr>\n",
       "      <th>4</th>\n",
       "      <td>US</td>\n",
       "      <td>Much like the regular bottling from 2012, this...</td>\n",
       "      <td>87</td>\n",
       "      <td>65.0</td>\n",
       "      <td>Pinot Noir</td>\n",
       "      <td>Sweet Cheeks</td>\n",
       "    </tr>\n",
       "  </tbody>\n",
       "</table>\n",
       "</div>"
      ],
      "text/plain": [
       "    country                                        description  points  price  \\\n",
       "0     Italy  Aromas include tropical fruit, broom, brimston...      87    NaN   \n",
       "1  Portugal  This is ripe and fruity, a wine that is smooth...      87   15.0   \n",
       "2        US  Tart and snappy, the flavors of lime flesh and...      87   14.0   \n",
       "3        US  Pineapple rind, lemon pith and orange blossom ...      87   13.0   \n",
       "4        US  Much like the regular bottling from 2012, this...      87   65.0   \n",
       "\n",
       "          variety               winery  \n",
       "0     White Blend              Nicosia  \n",
       "1  Portuguese Red  Quinta dos Avidagos  \n",
       "2      Pinot Gris            Rainstorm  \n",
       "3        Riesling           St. Julian  \n",
       "4      Pinot Noir         Sweet Cheeks  "
      ]
     },
     "execution_count": 3,
     "metadata": {},
     "output_type": "execute_result"
    }
   ],
   "source": [
    "df.head()"
   ]
  },
  {
   "cell_type": "code",
   "execution_count": 4,
   "id": "e6f0fbf6",
   "metadata": {},
   "outputs": [],
   "source": [
    "df = df.dropna(subset=['description', 'points'])"
   ]
  },
  {
   "cell_type": "code",
   "execution_count": 5,
   "id": "b6ef6f74",
   "metadata": {},
   "outputs": [
    {
     "name": "stdout",
     "output_type": "stream",
     "text": [
      "<class 'pandas.core.frame.DataFrame'>\n",
      "RangeIndex: 129971 entries, 0 to 129970\n",
      "Data columns (total 6 columns):\n",
      " #   Column       Non-Null Count   Dtype  \n",
      "---  ------       --------------   -----  \n",
      " 0   country      129908 non-null  object \n",
      " 1   description  129971 non-null  object \n",
      " 2   points       129971 non-null  int64  \n",
      " 3   price        120975 non-null  float64\n",
      " 4   variety      129970 non-null  object \n",
      " 5   winery       129971 non-null  object \n",
      "dtypes: float64(1), int64(1), object(4)\n",
      "memory usage: 5.9+ MB\n"
     ]
    }
   ],
   "source": [
    "df.info()"
   ]
  },
  {
   "cell_type": "code",
   "execution_count": 6,
   "id": "1b67bef4",
   "metadata": {},
   "outputs": [
    {
     "data": {
      "image/png": "[encoded data removed]",
      "text/plain": [
       "<Figure size 432x288 with 1 Axes>"
      ]
     },
     "metadata": {
      "needs_background": "light"
     },
     "output_type": "display_data"
    }
   ],
   "source": [
    "# Let's verify the target distribution\n",
    "\n",
    "plt.hist(df.points, bins=20)\n",
    "plt.title('Points Histogram')\n",
    "plt.xlabel('Points')\n",
    "plt.ylabel('N')\n",
    "plt.show()"
   ]
  },
  {
   "cell_type": "code",
   "execution_count": 7,
   "id": "3010243f",
   "metadata": {},
   "outputs": [],
   "source": [
    "# Initially, to simplify the model, points will be separated as to classify the wines in two categories,\n",
    "# 0 and 1:\n",
    "\n",
    "df['label'] = (df.points >= 90).astype(int)\n",
    "df = df[['description', 'label']]"
   ]
  },
  {
   "cell_type": "code",
   "execution_count": 8,
   "id": "2c267393",
   "metadata": {},
   "outputs": [
    {
     "data": {
      "text/html": [
       "<div>\n",
       "<style scoped>\n",
       "    .dataframe tbody tr th:only-of-type {\n",
       "        vertical-align: middle;\n",
       "    }\n",
       "\n",
       "    .dataframe tbody tr th {\n",
       "        vertical-align: top;\n",
       "    }\n",
       "\n",
       "    .dataframe thead th {\n",
       "        text-align: right;\n",
       "    }\n",
       "</style>\n",
       "<table border=\"1\" class=\"dataframe\">\n",
       "  <thead>\n",
       "    <tr style=\"text-align: right;\">\n",
       "      <th></th>\n",
       "      <th>description</th>\n",
       "      <th>label</th>\n",
       "    </tr>\n",
       "  </thead>\n",
       "  <tbody>\n",
       "    <tr>\n",
       "      <th>0</th>\n",
       "      <td>Aromas include tropical fruit, broom, brimston...</td>\n",
       "      <td>0</td>\n",
       "    </tr>\n",
       "    <tr>\n",
       "      <th>1</th>\n",
       "      <td>This is ripe and fruity, a wine that is smooth...</td>\n",
       "      <td>0</td>\n",
       "    </tr>\n",
       "    <tr>\n",
       "      <th>2</th>\n",
       "      <td>Tart and snappy, the flavors of lime flesh and...</td>\n",
       "      <td>0</td>\n",
       "    </tr>\n",
       "    <tr>\n",
       "      <th>3</th>\n",
       "      <td>Pineapple rind, lemon pith and orange blossom ...</td>\n",
       "      <td>0</td>\n",
       "    </tr>\n",
       "    <tr>\n",
       "      <th>4</th>\n",
       "      <td>Much like the regular bottling from 2012, this...</td>\n",
       "      <td>0</td>\n",
       "    </tr>\n",
       "    <tr>\n",
       "      <th>...</th>\n",
       "      <td>...</td>\n",
       "      <td>...</td>\n",
       "    </tr>\n",
       "    <tr>\n",
       "      <th>129966</th>\n",
       "      <td>Notes of honeysuckle and cantaloupe sweeten th...</td>\n",
       "      <td>1</td>\n",
       "    </tr>\n",
       "    <tr>\n",
       "      <th>129967</th>\n",
       "      <td>Citation is given as much as a decade of bottl...</td>\n",
       "      <td>1</td>\n",
       "    </tr>\n",
       "    <tr>\n",
       "      <th>129968</th>\n",
       "      <td>Well-drained gravel soil gives this wine its c...</td>\n",
       "      <td>1</td>\n",
       "    </tr>\n",
       "    <tr>\n",
       "      <th>129969</th>\n",
       "      <td>A dry style of Pinot Gris, this is crisp with ...</td>\n",
       "      <td>1</td>\n",
       "    </tr>\n",
       "    <tr>\n",
       "      <th>129970</th>\n",
       "      <td>Big, rich and off-dry, this is powered by inte...</td>\n",
       "      <td>1</td>\n",
       "    </tr>\n",
       "  </tbody>\n",
       "</table>\n",
       "<p>129971 rows × 2 columns</p>\n",
       "</div>"
      ],
      "text/plain": [
       "                                              description  label\n",
       "0       Aromas include tropical fruit, broom, brimston...      0\n",
       "1       This is ripe and fruity, a wine that is smooth...      0\n",
       "2       Tart and snappy, the flavors of lime flesh and...      0\n",
       "3       Pineapple rind, lemon pith and orange blossom ...      0\n",
       "4       Much like the regular bottling from 2012, this...      0\n",
       "...                                                   ...    ...\n",
       "129966  Notes of honeysuckle and cantaloupe sweeten th...      1\n",
       "129967  Citation is given as much as a decade of bottl...      1\n",
       "129968  Well-drained gravel soil gives this wine its c...      1\n",
       "129969  A dry style of Pinot Gris, this is crisp with ...      1\n",
       "129970  Big, rich and off-dry, this is powered by inte...      1\n",
       "\n",
       "[129971 rows x 2 columns]"
      ]
     },
     "execution_count": 8,
     "metadata": {},
     "output_type": "execute_result"
    }
   ],
   "source": [
    "df"
   ]
  },
  {
   "cell_type": "code",
   "execution_count": 16,
   "id": "dc3603c9",
   "metadata": {},
   "outputs": [],
   "source": [
    "# To assess overfitting, it is essential to have a validation subset, besides train and test.\n",
    "# Splitting at 80% train, 10% test, 10% val\n",
    "\n",
    "train, val, test = np.split(df.sample(frac=1), [int(0.8*len(df)), int(0.9*len(df))])"
   ]
  },
  {
   "cell_type": "code",
   "execution_count": 17,
   "id": "c0358486",
   "metadata": {},
   "outputs": [],
   "source": [
    "# Defining function to get datasets from split dfs and building pipelines for the neural net training\n",
    "\n",
    "def df_to_dataset(dataframe, shuffle=True, batch_size=1024):\n",
    "  df = dataframe.copy()\n",
    "  labels = df.pop('label')\n",
    "  df = df['description']\n",
    "  ds = tf.data.Dataset.from_tensor_slices((df, labels))\n",
    "  if shuffle:\n",
    "    ds = ds.shuffle(buffer_size=len(dataframe))\n",
    "  ds = ds.batch(batch_size)\n",
    "  ds = ds.prefetch(tf.data.AUTOTUNE)\n",
    "  return ds"
   ]
  },
  {
   "cell_type": "code",
   "execution_count": 18,
   "id": "0931dc20",
   "metadata": {},
   "outputs": [],
   "source": [
    "train_data = df_to_dataset(train)\n",
    "val_data = df_to_dataset(val)\n",
    "test_data = df_to_dataset(test)"
   ]
  },
  {
   "cell_type": "markdown",
   "id": "7f6af3a6",
   "metadata": {},
   "source": [
    "## To analyse written language, there are some options. First, let's use TensorFlow hub to access a NNLM database written langauge analysis and vector convertion and apply it to our wine reviews"
   ]
  },
  {
   "cell_type": "code",
   "execution_count": 24,
   "id": "7e11a736",
   "metadata": {},
   "outputs": [],
   "source": [
    "hub_layer = hub.KerasLayer('nnlm-en-dim50_2', dtype=tf.string, trainable=True)"
   ]
  },
  {
   "cell_type": "code",
   "execution_count": 25,
   "id": "4cb0a82d",
   "metadata": {},
   "outputs": [
    {
     "data": {
      "text/plain": [
       "<tf.Tensor: shape=(1024, 50), dtype=float32, numpy=\n",
       "array([[ 0.4689755 , -0.1557115 , -0.14062823, ...,  0.02809818,\n",
       "        -0.2350836 ,  0.02506753],\n",
       "       [ 0.30171067,  0.00888665, -0.15886499, ..., -0.09628567,\n",
       "         0.01191762, -0.24689035],\n",
       "       [ 0.42685437,  0.02237918, -0.04397464, ..., -0.2017266 ,\n",
       "        -0.19275774,  0.0509197 ],\n",
       "       ...,\n",
       "       [ 0.29242164, -0.3612303 ,  0.14579181, ..., -0.0670628 ,\n",
       "         0.16453524, -0.07230484],\n",
       "       [ 0.2753464 , -0.1885556 , -0.0103583 , ..., -0.10546747,\n",
       "        -0.29747576,  0.0142909 ],\n",
       "       [ 0.33945358, -0.23618123, -0.2305099 , ..., -0.08266268,\n",
       "         0.27211103,  0.15572451]], dtype=float32)>"
      ]
     },
     "execution_count": 25,
     "metadata": {},
     "output_type": "execute_result"
    }
   ],
   "source": [
    "hub_layer(list(train_data)[0][0])"
   ]
  },
  {
   "cell_type": "code",
   "execution_count": 26,
   "id": "ef1e08ae",
   "metadata": {},
   "outputs": [],
   "source": [
    "# Now, let's create the neural layers! Some dropouts are added to avoid overfit\n",
    "\n",
    "model = tf.keras.Sequential()\n",
    "model.add(hub_layer)\n",
    "model.add(tf.keras.layers.Dense(16, activation='relu'))\n",
    "model.add(tf.keras.layers.Dropout(0.4))\n",
    "model.add(tf.keras.layers.Dense(16, activation='relu'))\n",
    "model.add(tf.keras.layers.Dropout(0.4))\n",
    "model.add(tf.keras.layers.Dense(1, activation='sigmoid'))"
   ]
  },
  {
   "cell_type": "code",
   "execution_count": 27,
   "id": "368c92e4",
   "metadata": {},
   "outputs": [],
   "source": [
    "model.compile(optimizer=tf.keras.optimizers.Adam(learning_rate=0.001),\n",
    "             loss=tf.keras.losses.BinaryCrossentropy(),\n",
    "             metrics=['accuracy'])"
   ]
  },
  {
   "cell_type": "code",
   "execution_count": 28,
   "id": "46e0008d",
   "metadata": {},
   "outputs": [
    {
     "name": "stdout",
     "output_type": "stream",
     "text": [
      "Epoch 1/5\n",
      "102/102 [==============================] - 56s 536ms/step - loss: 0.6068 - accuracy: 0.6616 - val_loss: 0.4696 - val_accuracy: 0.7903\n",
      "Epoch 2/5\n",
      "102/102 [==============================] - 54s 528ms/step - loss: 0.4532 - accuracy: 0.7894 - val_loss: 0.3933 - val_accuracy: 0.8194\n",
      "Epoch 3/5\n",
      "102/102 [==============================] - 52s 510ms/step - loss: 0.3938 - accuracy: 0.8268 - val_loss: 0.3752 - val_accuracy: 0.8269\n",
      "Epoch 4/5\n",
      "102/102 [==============================] - 53s 518ms/step - loss: 0.3627 - accuracy: 0.8450 - val_loss: 0.3693 - val_accuracy: 0.8326\n",
      "Epoch 5/5\n",
      "102/102 [==============================] - 54s 532ms/step - loss: 0.3390 - accuracy: 0.8578 - val_loss: 0.3716 - val_accuracy: 0.8325\n"
     ]
    }
   ],
   "source": [
    "# Time to train!!\n",
    "\n",
    "history = model.fit(train_data, epochs=5, validation_data=val_data)"
   ]
  },
  {
   "cell_type": "code",
   "execution_count": 29,
   "id": "8e0ee0e5",
   "metadata": {},
   "outputs": [
    {
     "data": {
      "text/plain": [
       "<matplotlib.legend.Legend at 0x2bb801f82e0>"
      ]
     },
     "execution_count": 29,
     "metadata": {},
     "output_type": "execute_result"
    },
    {
     "data": {
      "image/png": "[encoded data removed]",
      "text/plain": [
       "<Figure size 432x288 with 1 Axes>"
      ]
     },
     "metadata": {
      "needs_background": "light"
     },
     "output_type": "display_data"
    }
   ],
   "source": [
    "# Training seems to be successful! Let's plot the accuracies to better visualize\n",
    "\n",
    "plt.plot(history.history['accuracy'], label='Training acc')\n",
    "plt.plot(history.history['val_accuracy'], label='Validation acc')\n",
    "plt.xlabel('Epoch')\n",
    "plt.legend()"
   ]
  },
  {
   "cell_type": "code",
   "execution_count": 30,
   "id": "1246b31b",
   "metadata": {},
   "outputs": [
    {
     "data": {
      "text/plain": [
       "<matplotlib.legend.Legend at 0x2bbf60153f0>"
      ]
     },
     "execution_count": 30,
     "metadata": {},
     "output_type": "execute_result"
    },
    {
     "data": {
      "image/png": "[encoded data removed]",
      "text/plain": [
       "<Figure size 432x288 with 1 Axes>"
      ]
     },
     "metadata": {
      "needs_background": "light"
     },
     "output_type": "display_data"
    }
   ],
   "source": [
    "# They seem to behave properly. Losses now\n",
    "\n",
    "plt.plot(history.history['loss'], label='Training loss')\n",
    "plt.plot(history.history['val_loss'], label='Validation loss')\n",
    "plt.xlabel('Epoch')\n",
    "plt.legend()"
   ]
  },
  {
   "cell_type": "code",
   "execution_count": 31,
   "id": "6d73c365",
   "metadata": {},
   "outputs": [
    {
     "name": "stdout",
     "output_type": "stream",
     "text": [
      "13/13 [==============================] - 1s 64ms/step - loss: 0.3705 - accuracy: 0.8320\n"
     ]
    },
    {
     "data": {
      "text/plain": [
       "[0.3705463707447052, 0.8319741487503052]"
      ]
     },
     "execution_count": 31,
     "metadata": {},
     "output_type": "execute_result"
    }
   ],
   "source": [
    "# Finally, evaluating the model!\n",
    "\n",
    "# Nice results, accuracy over 80%!!!\n",
    "\n",
    "model.evaluate(test_data)"
   ]
  },
  {
   "cell_type": "markdown",
   "id": "1f56d461",
   "metadata": {},
   "source": [
    "## As expressed before, using a language interpreter database is an option. Another one is to build one with Keras! "
   ]
  },
  {
   "cell_type": "code",
   "execution_count": 32,
   "id": "b3081195",
   "metadata": {},
   "outputs": [],
   "source": [
    "# Let's use all our vocabulary to encode the words in the descriptions\n",
    "\n",
    "encoder = tf.keras.layers.TextVectorization(max_tokens=2000)\n",
    "encoder.adapt(train_data.map(lambda text, label: text))"
   ]
  },
  {
   "cell_type": "code",
   "execution_count": 33,
   "id": "973c8903",
   "metadata": {},
   "outputs": [
    {
     "data": {
      "text/plain": [
       "array(['', '[UNK]', 'and', 'the', 'a', 'of', 'with', 'this', 'is', 'wine',\n",
       "       'flavors', 'in', 'it', 'to', 'its', 'on', 'fruit', 'aromas',\n",
       "       'palate', 'that'], dtype='<U17')"
      ]
     },
     "execution_count": 33,
     "metadata": {},
     "output_type": "execute_result"
    }
   ],
   "source": [
    "vocab = np.array(encoder.get_vocabulary())\n",
    "vocab[:20]"
   ]
  },
  {
   "cell_type": "code",
   "execution_count": 34,
   "id": "8179c79b",
   "metadata": {},
   "outputs": [],
   "source": [
    "# Creating layers. A Long-Short-Term Memory layer is added to help with back-propagation, since the neural\n",
    "# net is using vectorized text as input.\n",
    "\n",
    "model = tf.keras.Sequential([\n",
    "    encoder,\n",
    "    tf.keras.layers.Embedding(\n",
    "        input_dim=len(encoder.get_vocabulary()),\n",
    "        output_dim=32,\n",
    "        mask_zero=True\n",
    "    ),\n",
    "    tf.keras.layers.LSTM(32),\n",
    "    tf.keras.layers.Dense(32, activation='relu'),\n",
    "    tf.keras.layers.Dropout(0.4),\n",
    "    tf.keras.layers.Dense(1, activation='sigmoid')\n",
    "])"
   ]
  },
  {
   "cell_type": "code",
   "execution_count": 35,
   "id": "dcee8880",
   "metadata": {},
   "outputs": [],
   "source": [
    "# Metrics\n",
    "\n",
    "model.compile(optimizer=tf.keras.optimizers.Adam(learning_rate=0.001),\n",
    "             loss=tf.keras.losses.BinaryCrossentropy(),\n",
    "             metrics=['accuracy'])"
   ]
  },
  {
   "cell_type": "code",
   "execution_count": 37,
   "id": "b72f4498",
   "metadata": {},
   "outputs": [
    {
     "name": "stdout",
     "output_type": "stream",
     "text": [
      "Epoch 1/5\n",
      "102/102 [==============================] - 46s 400ms/step - loss: 0.5467 - accuracy: 0.7094 - val_loss: 0.3940 - val_accuracy: 0.8188\n",
      "Epoch 2/5\n",
      "102/102 [==============================] - 48s 471ms/step - loss: 0.3678 - accuracy: 0.8340 - val_loss: 0.3550 - val_accuracy: 0.8407\n",
      "Epoch 3/5\n",
      "102/102 [==============================] - 43s 421ms/step - loss: 0.3488 - accuracy: 0.8439 - val_loss: 0.3455 - val_accuracy: 0.8449\n",
      "Epoch 4/5\n",
      "102/102 [==============================] - 42s 410ms/step - loss: 0.3445 - accuracy: 0.8451 - val_loss: 0.3485 - val_accuracy: 0.8435\n",
      "Epoch 5/5\n",
      "102/102 [==============================] - 43s 424ms/step - loss: 0.3387 - accuracy: 0.8486 - val_loss: 0.3546 - val_accuracy: 0.8409\n"
     ]
    }
   ],
   "source": [
    "# Training!!\n",
    "\n",
    "## Isn't it beautiful to watch the computer 'learning'??\n",
    "\n",
    "history = model.fit(train_data, epochs=5, validation_data=val_data)"
   ]
  },
  {
   "cell_type": "code",
   "execution_count": 38,
   "id": "f881dbe2",
   "metadata": {},
   "outputs": [
    {
     "data": {
      "text/plain": [
       "<matplotlib.legend.Legend at 0x2bbefce3130>"
      ]
     },
     "execution_count": 38,
     "metadata": {},
     "output_type": "execute_result"
    },
    {
     "data": {
      "image/png": "[encoded data removed]",
      "text/plain": [
       "<Figure size 432x288 with 1 Axes>"
      ]
     },
     "metadata": {
      "needs_background": "light"
     },
     "output_type": "display_data"
    }
   ],
   "source": [
    "plt.plot(history.history['accuracy'], label='Training acc')\n",
    "plt.plot(history.history['val_accuracy'], label='Validation acc')\n",
    "plt.xlabel('Epoch')\n",
    "plt.legend()"
   ]
  },
  {
   "cell_type": "code",
   "execution_count": 39,
   "id": "3211cd6e",
   "metadata": {},
   "outputs": [
    {
     "data": {
      "text/plain": [
       "<matplotlib.legend.Legend at 0x2bb84467190>"
      ]
     },
     "execution_count": 39,
     "metadata": {},
     "output_type": "execute_result"
    },
    {
     "data": {
      "image/png": "[encoded data removed]",
      "text/plain": [
       "<Figure size 432x288 with 1 Axes>"
      ]
     },
     "metadata": {
      "needs_background": "light"
     },
     "output_type": "display_data"
    }
   ],
   "source": [
    "plt.plot(history.history['loss'], label='Training loss')\n",
    "plt.plot(history.history['val_loss'], label='Validation loss')\n",
    "plt.xlabel('Epoch')\n",
    "plt.legend()"
   ]
  },
  {
   "cell_type": "code",
   "execution_count": 40,
   "id": "99fa5911",
   "metadata": {},
   "outputs": [
    {
     "name": "stdout",
     "output_type": "stream",
     "text": [
      "13/13 [==============================] - 2s 161ms/step - loss: 0.3580 - accuracy: 0.8393\n"
     ]
    },
    {
     "data": {
      "text/plain": [
       "[0.35801827907562256, 0.8392829895019531]"
      ]
     },
     "execution_count": 40,
     "metadata": {},
     "output_type": "execute_result"
    }
   ],
   "source": [
    "model.evaluate(test_data)"
   ]
  },
  {
   "cell_type": "code",
   "execution_count": null,
   "id": "b7468ad1",
   "metadata": {},
   "outputs": [],
   "source": [
    "# Slightly better, practically equivalent accuracy!!"
   ]
  }
 ],
 "metadata": {
  "kernelspec": {
   "display_name": "Python 3 (ipykernel)",
   "language": "python",
   "name": "python3"
  },
  "language_info": {
   "codemirror_mode": {
    "name": "ipython",
    "version": 3
   },
   "file_extension": ".py",
   "mimetype": "text/x-python",
   "name": "python",
   "nbconvert_exporter": "python",
   "pygments_lexer": "ipython3",
   "version": "3.10.4"
  }
 },
 "nbformat": 4,
 "nbformat_minor": 5
}
