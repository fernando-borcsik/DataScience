{
 "cells": [
  {
   "cell_type": "code",
   "execution_count": 1,
   "id": "06261d9c",
   "metadata": {},
   "outputs": [],
   "source": [
    "import pandas as pd\n",
    "import matplotlib.pyplot as plt\n",
    "import seaborn as sns\n",
    "%matplotlib inline"
   ]
  },
  {
   "cell_type": "markdown",
   "id": "24f305d2",
   "metadata": {},
   "source": [
    "Esse é o arquivo do PC novo. Como um amigo meu diz, SSD é vida! Já estava com a mente pensando em dataframe nesse momento, e fui abrindo, refazendo e analisando. Já dei uma olhada no dataframe de teste, para entender seus valores faltantes e incoerentes. Treinei o save aqui também. Mais abaixo, os testes!"
   ]
  },
  {
   "cell_type": "code",
   "execution_count": 2,
   "id": "1ef841e3",
   "metadata": {},
   "outputs": [],
   "source": [
    "df = pd.read_csv('treino.csv')"
   ]
  },
  {
   "cell_type": "code",
   "execution_count": 3,
   "id": "7f6659da",
   "metadata": {},
   "outputs": [],
   "source": [
    "dfna = df.dropna()"
   ]
  },
  {
   "cell_type": "code",
   "execution_count": 4,
   "id": "90003d44",
   "metadata": {},
   "outputs": [],
   "source": [
    "drop_util = dfna[dfna['util_linhas_inseguras']>1].index"
   ]
  },
  {
   "cell_type": "code",
   "execution_count": 5,
   "id": "b71e5611",
   "metadata": {},
   "outputs": [],
   "source": [
    "dfclean = dfna.drop(drop_util)"
   ]
  },
  {
   "cell_type": "code",
   "execution_count": 6,
   "id": "1d672b10",
   "metadata": {},
   "outputs": [],
   "source": [
    "X = dfclean.drop('inadimplente', axis=1)"
   ]
  },
  {
   "cell_type": "code",
   "execution_count": 7,
   "id": "574014c9",
   "metadata": {},
   "outputs": [],
   "source": [
    "y = dfclean['inadimplente']"
   ]
  },
  {
   "cell_type": "code",
   "execution_count": 8,
   "id": "ac39cf2c",
   "metadata": {},
   "outputs": [
    {
     "name": "stderr",
     "output_type": "stream",
     "text": [
      "[Parallel(n_jobs=1)]: Using backend SequentialBackend with 1 concurrent workers.\n",
      "[Parallel(n_jobs=1)]: Done  50 out of  50 | elapsed:    6.7s finished\n"
     ]
    },
    {
     "data": {
      "text/plain": [
       "RandomForestClassifier(n_estimators=50, verbose=1)"
      ]
     },
     "execution_count": 8,
     "metadata": {},
     "output_type": "execute_result"
    }
   ],
   "source": [
    "from sklearn.ensemble import RandomForestClassifier\n",
    "test = pd.read_csv('teste.csv')\n",
    "rfc = RandomForestClassifier(n_estimators=50, verbose=1)\n",
    "rfc.fit(X, y)"
   ]
  },
  {
   "cell_type": "code",
   "execution_count": 26,
   "id": "82ff44a4",
   "metadata": {},
   "outputs": [
    {
     "data": {
      "text/plain": [
       "<AxesSubplot:>"
      ]
     },
     "execution_count": 26,
     "metadata": {},
     "output_type": "execute_result"
    },
    {
     "data": {
      "image/png": "[encoded data removed]",
      "text/plain": [
       "<Figure size 432x288 with 1 Axes>"
      ]
     },
     "metadata": {
      "needs_background": "light"
     },
     "output_type": "display_data"
    }
   ],
   "source": [
    "sns.heatmap(test.isnull(), yticklabels=False, cbar=False, cmap='viridis')"
   ]
  },
  {
   "cell_type": "code",
   "execution_count": 16,
   "id": "a23ccd34",
   "metadata": {},
   "outputs": [],
   "source": [
    "import numpy as np"
   ]
  },
  {
   "cell_type": "code",
   "execution_count": 17,
   "id": "602e6eaf",
   "metadata": {},
   "outputs": [
    {
     "data": {
      "text/plain": [
       "1.0"
      ]
     },
     "execution_count": 17,
     "metadata": {},
     "output_type": "execute_result"
    }
   ],
   "source": [
    "np.rint(test['numero_de_dependentes'].mean())"
   ]
  },
  {
   "cell_type": "code",
   "execution_count": 13,
   "id": "c11ec3c1",
   "metadata": {},
   "outputs": [],
   "source": [
    "def imput_sal(sal):\n",
    "    if pd.isnull(sal):\n",
    "        return test['salario_mensal'].mean()\n",
    "    else:\n",
    "        return sal"
   ]
  },
  {
   "cell_type": "code",
   "execution_count": 19,
   "id": "f2821157",
   "metadata": {},
   "outputs": [],
   "source": [
    "def imput_dep(dep):\n",
    "    if pd.isnull(dep):\n",
    "        return np.rint(test['numero_de_dependentes'].mean())\n",
    "    else:\n",
    "        return dep"
   ]
  },
  {
   "cell_type": "code",
   "execution_count": 22,
   "id": "90efd684",
   "metadata": {},
   "outputs": [],
   "source": [
    "test['salario_mensal'] = test['salario_mensal'].apply(imput_sal)"
   ]
  },
  {
   "cell_type": "code",
   "execution_count": 25,
   "id": "1e4a767a",
   "metadata": {},
   "outputs": [],
   "source": [
    "test['numero_de_dependentes'] = test['numero_de_dependentes'].apply(imput_dep)"
   ]
  },
  {
   "cell_type": "code",
   "execution_count": 27,
   "id": "5c516b29",
   "metadata": {},
   "outputs": [
    {
     "name": "stderr",
     "output_type": "stream",
     "text": [
      "[Parallel(n_jobs=1)]: Using backend SequentialBackend with 1 concurrent workers.\n",
      "[Parallel(n_jobs=1)]: Done  50 out of  50 | elapsed:    0.3s finished\n"
     ]
    }
   ],
   "source": [
    "pred = rfc.predict(test)"
   ]
  },
  {
   "cell_type": "code",
   "execution_count": 30,
   "id": "e6c63931",
   "metadata": {},
   "outputs": [],
   "source": [
    "test['inadimplente'] = pred"
   ]
  },
  {
   "cell_type": "code",
   "execution_count": 33,
   "id": "0ab48f56",
   "metadata": {},
   "outputs": [
    {
     "data": {
      "text/plain": [
       "0        0\n",
       "1        0\n",
       "2        0\n",
       "3        0\n",
       "4        0\n",
       "        ..\n",
       "39995    0\n",
       "39996    0\n",
       "39997    0\n",
       "39998    0\n",
       "39999    0\n",
       "Name: inadimplente, Length: 40000, dtype: int64"
      ]
     },
     "execution_count": 33,
     "metadata": {},
     "output_type": "execute_result"
    }
   ],
   "source": [
    "test['inadimplente']"
   ]
  },
  {
   "cell_type": "code",
   "execution_count": 34,
   "id": "f502c846",
   "metadata": {},
   "outputs": [],
   "source": [
    "test.to_csv('out.csv')"
   ]
  },
  {
   "cell_type": "code",
   "execution_count": null,
   "id": "46a6c8ab",
   "metadata": {},
   "outputs": [],
   "source": []
  },
  {
   "cell_type": "code",
   "execution_count": null,
   "id": "c4bebe7c",
   "metadata": {},
   "outputs": [],
   "source": []
  },
  {
   "cell_type": "code",
   "execution_count": 35,
   "id": "35124cfa",
   "metadata": {},
   "outputs": [],
   "source": []
  },
  {
   "cell_type": "code",
   "execution_count": null,
   "id": "9c270b2b",
   "metadata": {},
   "outputs": [],
   "source": []
  },
  {
   "cell_type": "code",
   "execution_count": null,
   "id": "fad404e4",
   "metadata": {},
   "outputs": [],
   "source": []
  },
  {
   "cell_type": "code",
   "execution_count": null,
   "id": "8e9a5e91",
   "metadata": {},
   "outputs": [],
   "source": []
  },
  {
   "cell_type": "code",
   "execution_count": null,
   "id": "5fb74fc0",
   "metadata": {},
   "outputs": [],
   "source": []
  },
  {
   "cell_type": "markdown",
   "id": "af1c9cab",
   "metadata": {},
   "source": [
    "Aqui faço o split, e tento uma regressão linear nos valores numéricos, em busca de correlações, sem muito resultado... fiz o split com size diferente do outro arquivo, para variar. Em verdade, fiz mais testes do que estão aqui, mas a ideia toda segue nos documentos."
   ]
  },
  {
   "cell_type": "code",
   "execution_count": 9,
   "id": "89a13c2e",
   "metadata": {},
   "outputs": [],
   "source": [
    "from sklearn.model_selection import train_test_split\n",
    "X_train, X_test, y_train, y_test = train_test_split(test.dropna().drop(['salario_mensal', 'numero_de_dependentes'], axis=1), test.dropna()['salario_mensal'], test_size=0.3)"
   ]
  },
  {
   "cell_type": "code",
   "execution_count": 15,
   "id": "f8c7437f",
   "metadata": {},
   "outputs": [],
   "source": [
    "from sklearn.linear_model import LinearRegression"
   ]
  },
  {
   "cell_type": "code",
   "execution_count": 16,
   "id": "6095ff39",
   "metadata": {},
   "outputs": [],
   "source": [
    "lm = LinearRegression()"
   ]
  },
  {
   "cell_type": "code",
   "execution_count": 17,
   "id": "a8ba7c13",
   "metadata": {},
   "outputs": [
    {
     "data": {
      "text/plain": [
       "LinearRegression()"
      ]
     },
     "execution_count": 17,
     "metadata": {},
     "output_type": "execute_result"
    }
   ],
   "source": [
    "lm.fit(X_train, y_train)"
   ]
  },
  {
   "cell_type": "code",
   "execution_count": 18,
   "id": "b7cb7785",
   "metadata": {},
   "outputs": [
    {
     "data": {
      "text/html": [
       "<div>\n",
       "<style scoped>\n",
       "    .dataframe tbody tr th:only-of-type {\n",
       "        vertical-align: middle;\n",
       "    }\n",
       "\n",
       "    .dataframe tbody tr th {\n",
       "        vertical-align: top;\n",
       "    }\n",
       "\n",
       "    .dataframe thead th {\n",
       "        text-align: right;\n",
       "    }\n",
       "</style>\n",
       "<table border=\"1\" class=\"dataframe\">\n",
       "  <thead>\n",
       "    <tr style=\"text-align: right;\">\n",
       "      <th></th>\n",
       "      <th>Coeff</th>\n",
       "    </tr>\n",
       "  </thead>\n",
       "  <tbody>\n",
       "    <tr>\n",
       "      <th>util_linhas_inseguras</th>\n",
       "      <td>0.617298</td>\n",
       "    </tr>\n",
       "    <tr>\n",
       "      <th>idade</th>\n",
       "      <td>26.363402</td>\n",
       "    </tr>\n",
       "    <tr>\n",
       "      <th>vezes_passou_de_30_59_dias</th>\n",
       "      <td>-127.346022</td>\n",
       "    </tr>\n",
       "    <tr>\n",
       "      <th>razao_debito</th>\n",
       "      <td>-0.583196</td>\n",
       "    </tr>\n",
       "    <tr>\n",
       "      <th>numero_linhas_crdto_aberto</th>\n",
       "      <td>140.902834</td>\n",
       "    </tr>\n",
       "    <tr>\n",
       "      <th>numero_vezes_passou_90_dias</th>\n",
       "      <td>-92.234955</td>\n",
       "    </tr>\n",
       "    <tr>\n",
       "      <th>numero_emprestimos_imobiliarios</th>\n",
       "      <td>1280.880108</td>\n",
       "    </tr>\n",
       "    <tr>\n",
       "      <th>numero_de_vezes_que_passou_60_89_dias</th>\n",
       "      <td>206.852411</td>\n",
       "    </tr>\n",
       "  </tbody>\n",
       "</table>\n",
       "</div>"
      ],
      "text/plain": [
       "                                             Coeff\n",
       "util_linhas_inseguras                     0.617298\n",
       "idade                                    26.363402\n",
       "vezes_passou_de_30_59_dias             -127.346022\n",
       "razao_debito                             -0.583196\n",
       "numero_linhas_crdto_aberto              140.902834\n",
       "numero_vezes_passou_90_dias             -92.234955\n",
       "numero_emprestimos_imobiliarios        1280.880108\n",
       "numero_de_vezes_que_passou_60_89_dias   206.852411"
      ]
     },
     "execution_count": 18,
     "metadata": {},
     "output_type": "execute_result"
    }
   ],
   "source": [
    "coeff_df = pd.DataFrame(lm.coef_, X_train.columns, columns=['Coeff'])\n",
    "coeff_df"
   ]
  },
  {
   "cell_type": "code",
   "execution_count": 19,
   "id": "83d004d5",
   "metadata": {},
   "outputs": [],
   "source": [
    "pred = lm.predict(X_test)"
   ]
  },
  {
   "cell_type": "code",
   "execution_count": 20,
   "id": "6d45f0c7",
   "metadata": {},
   "outputs": [
    {
     "data": {
      "text/plain": [
       "<matplotlib.collections.PathCollection at 0x1f9d2ebba90>"
      ]
     },
     "execution_count": 20,
     "metadata": {},
     "output_type": "execute_result"
    },
    {
     "data": {
      "image/png": "[encoded data removed]",
      "text/plain": [
       "<Figure size 432x288 with 1 Axes>"
      ]
     },
     "metadata": {
      "needs_background": "light"
     },
     "output_type": "display_data"
    }
   ],
   "source": [
    "plt.scatter(y_test, pred)"
   ]
  },
  {
   "cell_type": "markdown",
   "id": "3d26b493",
   "metadata": {},
   "source": [
    "Esse gráfico grita a ausência de correlação"
   ]
  },
  {
   "cell_type": "code",
   "execution_count": 21,
   "id": "5f0c9194",
   "metadata": {},
   "outputs": [],
   "source": []
  },
  {
   "cell_type": "code",
   "execution_count": null,
   "id": "31b151ad",
   "metadata": {},
   "outputs": [],
   "source": []
  },
  {
   "cell_type": "code",
   "execution_count": null,
   "id": "13ac4b49",
   "metadata": {},
   "outputs": [],
   "source": []
  },
  {
   "cell_type": "code",
   "execution_count": null,
   "id": "1f70b006",
   "metadata": {},
   "outputs": [],
   "source": []
  },
  {
   "cell_type": "code",
   "execution_count": null,
   "id": "a1443094",
   "metadata": {},
   "outputs": [],
   "source": []
  },
  {
   "cell_type": "code",
   "execution_count": null,
   "id": "a73ab53d",
   "metadata": {},
   "outputs": [],
   "source": []
  },
  {
   "cell_type": "code",
   "execution_count": null,
   "id": "0bd4fc3e",
   "metadata": {},
   "outputs": [],
   "source": []
  },
  {
   "cell_type": "markdown",
   "id": "618b5401",
   "metadata": {},
   "source": [
    "Teste preliminar, similar ao arquivo do PC velho."
   ]
  },
  {
   "cell_type": "code",
   "execution_count": 6,
   "id": "d20f7bde",
   "metadata": {},
   "outputs": [],
   "source": [
    "from sklearn.model_selection import train_test_split"
   ]
  },
  {
   "cell_type": "code",
   "execution_count": 7,
   "id": "8101b74b",
   "metadata": {},
   "outputs": [],
   "source": [
    "X_train, X_test, y_train, y_test = train_test_split(dfclean.drop('inadimplente', axis=1), dfclean['inadimplente'], test_size=0.3)"
   ]
  },
  {
   "cell_type": "code",
   "execution_count": 8,
   "id": "ba732225",
   "metadata": {},
   "outputs": [],
   "source": [
    "from sklearn.svm import SVC"
   ]
  },
  {
   "cell_type": "code",
   "execution_count": 23,
   "id": "a896b67d",
   "metadata": {},
   "outputs": [],
   "source": [
    "model = SVC(C=0.1, gamma='auto')"
   ]
  },
  {
   "cell_type": "code",
   "execution_count": null,
   "id": "76241339",
   "metadata": {},
   "outputs": [],
   "source": [
    "model.fit(X_train, y_train)"
   ]
  },
  {
   "cell_type": "code",
   "execution_count": 20,
   "id": "0bae39a8",
   "metadata": {},
   "outputs": [],
   "source": [
    "pred = model.predict(X_test)"
   ]
  },
  {
   "cell_type": "code",
   "execution_count": 8,
   "id": "e0b0a6b5",
   "metadata": {},
   "outputs": [],
   "source": [
    "from sklearn.metrics import classification_report, confusion_matrix"
   ]
  },
  {
   "cell_type": "code",
   "execution_count": 22,
   "id": "a3cdc8d8",
   "metadata": {},
   "outputs": [
    {
     "name": "stdout",
     "output_type": "stream",
     "text": [
      "[[24291     0]\n",
      " [ 1564     0]]\n"
     ]
    }
   ],
   "source": [
    "print(confusion_matrix(y_test, pred))"
   ]
  },
  {
   "cell_type": "code",
   "execution_count": null,
   "id": "06cce79f",
   "metadata": {},
   "outputs": [],
   "source": []
  },
  {
   "cell_type": "code",
   "execution_count": null,
   "id": "d98c4672",
   "metadata": {},
   "outputs": [],
   "source": []
  },
  {
   "cell_type": "markdown",
   "id": "b28281ef",
   "metadata": {},
   "source": [
    "Varredura SVM!!! Tentei pumpar com cache_size=4000, mas aparentemente essa versão do jupyter tem algum bug que não considera certos valores.... ainda sim, foi."
   ]
  },
  {
   "cell_type": "code",
   "execution_count": 7,
   "id": "63618767",
   "metadata": {},
   "outputs": [],
   "source": [
    "param_grid = {'C': [0.1, 1, 10, 100, 1000], 'gamma': [1, 0.1, 0.01, 0.001, 0.0001], 'kernel': ['rbf']}\n",
    "from sklearn.model_selection import GridSearchCV\n",
    "from sklearn.svm import SVC"
   ]
  },
  {
   "cell_type": "code",
   "execution_count": 8,
   "id": "540e31a6",
   "metadata": {},
   "outputs": [],
   "source": [
    "X_train, X_test, y_train, y_test = train_test_split(dfclean.drop('inadimplente', axis=1), dfclean['inadimplente'], test_size=0.3)"
   ]
  },
  {
   "cell_type": "code",
   "execution_count": 9,
   "id": "d3a0a52f",
   "metadata": {},
   "outputs": [],
   "source": [
    "grid = GridSearchCV(SVC(probability=False, cache_size=4000), param_grid, refit=True, cv=2, verbose=3)"
   ]
  },
  {
   "cell_type": "code",
   "execution_count": null,
   "id": "fdea305d",
   "metadata": {
    "scrolled": true
   },
   "outputs": [
    {
     "name": "stdout",
     "output_type": "stream",
     "text": [
      "Fitting 2 folds for each of 25 candidates, totalling 50 fits\n",
      "[CV 1/2] END ........C=0.1, gamma=1, kernel=rbf;, score=0.938 total time= 1.1min\n",
      "[CV 2/2] END ........C=0.1, gamma=1, kernel=rbf;, score=0.937 total time= 1.0min\n",
      "[CV 1/2] END ......C=0.1, gamma=0.1, kernel=rbf;, score=0.938 total time=  38.8s\n",
      "[CV 2/2] END ......C=0.1, gamma=0.1, kernel=rbf;, score=0.937 total time=  40.4s\n",
      "[CV 1/2] END .....C=0.1, gamma=0.01, kernel=rbf;, score=0.938 total time=  22.4s\n",
      "[CV 2/2] END .....C=0.1, gamma=0.01, kernel=rbf;, score=0.937 total time=  21.1s\n",
      "[CV 1/2] END ....C=0.1, gamma=0.001, kernel=rbf;, score=0.938 total time=  18.9s\n",
      "[CV 2/2] END ....C=0.1, gamma=0.001, kernel=rbf;, score=0.937 total time=  18.9s\n",
      "[CV 1/2] END ...C=0.1, gamma=0.0001, kernel=rbf;, score=0.938 total time=  19.7s\n",
      "[CV 2/2] END ...C=0.1, gamma=0.0001, kernel=rbf;, score=0.937 total time=  19.1s\n",
      "[CV 1/2] END ..........C=1, gamma=1, kernel=rbf;, score=0.938 total time= 1.2min\n",
      "[CV 2/2] END ..........C=1, gamma=1, kernel=rbf;, score=0.938 total time= 1.3min\n",
      "[CV 1/2] END ........C=1, gamma=0.1, kernel=rbf;, score=0.938 total time= 2.0min\n",
      "[CV 2/2] END ........C=1, gamma=0.1, kernel=rbf;, score=0.938 total time= 2.4min\n",
      "[CV 1/2] END .......C=1, gamma=0.01, kernel=rbf;, score=0.938 total time=  54.3s\n",
      "[CV 2/2] END .......C=1, gamma=0.01, kernel=rbf;, score=0.938 total time=  51.2s\n",
      "[CV 1/2] END ......C=1, gamma=0.001, kernel=rbf;, score=0.938 total time=  24.7s\n",
      "[CV 2/2] END ......C=1, gamma=0.001, kernel=rbf;, score=0.938 total time=  22.0s\n",
      "[CV 1/2] END .....C=1, gamma=0.0001, kernel=rbf;, score=0.938 total time=  20.9s\n",
      "[CV 2/2] END .....C=1, gamma=0.0001, kernel=rbf;, score=0.937 total time=  21.6s\n",
      "[CV 1/2] END .........C=10, gamma=1, kernel=rbf;, score=0.932 total time= 2.1min\n",
      "[CV 2/2] END .........C=10, gamma=1, kernel=rbf;, score=0.935 total time= 2.0min\n",
      "[CV 1/2] END .......C=10, gamma=0.1, kernel=rbf;, score=0.939 total time= 6.6min\n",
      "[CV 2/2] END .......C=10, gamma=0.1, kernel=rbf;, score=0.939 total time= 8.4min\n",
      "[CV 1/2] END ......C=10, gamma=0.01, kernel=rbf;, score=0.938 total time= 5.2min\n",
      "[CV 2/2] END ......C=10, gamma=0.01, kernel=rbf;, score=0.938 total time= 4.7min\n",
      "[CV 1/2] END .....C=10, gamma=0.001, kernel=rbf;, score=0.938 total time=  50.8s\n",
      "[CV 2/2] END .....C=10, gamma=0.001, kernel=rbf;, score=0.938 total time=  50.3s\n",
      "[CV 1/2] END ....C=10, gamma=0.0001, kernel=rbf;, score=0.938 total time=  44.5s\n",
      "[CV 2/2] END ....C=10, gamma=0.0001, kernel=rbf;, score=0.938 total time=  42.0s\n",
      "[CV 1/2] END ........C=100, gamma=1, kernel=rbf;, score=0.919 total time= 8.4min\n",
      "[CV 2/2] END ........C=100, gamma=1, kernel=rbf;, score=0.921 total time= 5.7min\n"
     ]
    }
   ],
   "source": [
    "from sklearn.pipeline import make_pipeline\n",
    "from sklearn.preprocessing import StandardScaler\n",
    "clf = make_pipeline(StandardScaler(), grid)\n",
    "clf.fit(X_train, y_train)"
   ]
  },
  {
   "cell_type": "code",
   "execution_count": 26,
   "id": "09b31d12",
   "metadata": {},
   "outputs": [
    {
     "name": "stdout",
     "output_type": "stream",
     "text": [
      "0.9400775758853844\n"
     ]
    }
   ],
   "source": [
    "print(grid.best_score_)"
   ]
  },
  {
   "cell_type": "code",
   "execution_count": 27,
   "id": "b6e2c489",
   "metadata": {},
   "outputs": [
    {
     "name": "stdout",
     "output_type": "stream",
     "text": [
      "{'C': 10, 'gamma': 0.1, 'kernel': 'rbf'}\n"
     ]
    }
   ],
   "source": [
    "print(grid.best_params_)"
   ]
  },
  {
   "cell_type": "code",
   "execution_count": 28,
   "id": "a358bfb6",
   "metadata": {},
   "outputs": [],
   "source": [
    "pred1 = clf.predict(X_test)"
   ]
  },
  {
   "cell_type": "code",
   "execution_count": 29,
   "id": "da849ada",
   "metadata": {},
   "outputs": [],
   "source": [
    "from sklearn.metrics import classification_report, confusion_matrix"
   ]
  },
  {
   "cell_type": "code",
   "execution_count": 30,
   "id": "8709ee53",
   "metadata": {},
   "outputs": [
    {
     "name": "stdout",
     "output_type": "stream",
     "text": [
      "              precision    recall  f1-score   support\n",
      "\n",
      "           0       0.94      1.00      0.97     24214\n",
      "           1       0.52      0.05      0.09      1641\n",
      "\n",
      "    accuracy                           0.94     25855\n",
      "   macro avg       0.73      0.52      0.53     25855\n",
      "weighted avg       0.91      0.94      0.91     25855\n",
      "\n",
      "\n",
      "\n",
      "[[24145    69]\n",
      " [ 1565    76]]\n"
     ]
    }
   ],
   "source": [
    "print(classification_report(y_test, pred))\n",
    "print('\\n')\n",
    "print(confusion_matrix(y_test, pred))"
   ]
  },
  {
   "cell_type": "code",
   "execution_count": null,
   "id": "6f1dc9d5",
   "metadata": {},
   "outputs": [],
   "source": []
  },
  {
   "cell_type": "code",
   "execution_count": null,
   "id": "2e411c50",
   "metadata": {},
   "outputs": [],
   "source": []
  },
  {
   "cell_type": "code",
   "execution_count": null,
   "id": "f22131bf",
   "metadata": {},
   "outputs": [],
   "source": []
  },
  {
   "cell_type": "code",
   "execution_count": null,
   "id": "001be318",
   "metadata": {},
   "outputs": [],
   "source": []
  },
  {
   "cell_type": "code",
   "execution_count": null,
   "id": "5d17f706",
   "metadata": {},
   "outputs": [],
   "source": []
  },
  {
   "cell_type": "code",
   "execution_count": null,
   "id": "60fc27a7",
   "metadata": {},
   "outputs": [],
   "source": []
  },
  {
   "cell_type": "markdown",
   "id": "4dcd2561",
   "metadata": {},
   "source": [
    "Aqui testei a Decision Tree. Apesar de esperar resultado melhor na forest, comecei por aqui para sondar, mesmo."
   ]
  },
  {
   "cell_type": "code",
   "execution_count": 9,
   "id": "5fe3e1de",
   "metadata": {},
   "outputs": [],
   "source": [
    "from sklearn.tree import DecisionTreeClassifier"
   ]
  },
  {
   "cell_type": "code",
   "execution_count": 10,
   "id": "3ec8dbf9",
   "metadata": {},
   "outputs": [],
   "source": [
    "dtree = DecisionTreeClassifier()"
   ]
  },
  {
   "cell_type": "code",
   "execution_count": 11,
   "id": "17c68d90",
   "metadata": {},
   "outputs": [
    {
     "data": {
      "text/plain": [
       "DecisionTreeClassifier()"
      ]
     },
     "execution_count": 11,
     "metadata": {},
     "output_type": "execute_result"
    }
   ],
   "source": [
    "dtree.fit(X_train, y_train)"
   ]
  },
  {
   "cell_type": "code",
   "execution_count": 12,
   "id": "cef53f19",
   "metadata": {},
   "outputs": [],
   "source": [
    "pred = dtree.predict(X_test)"
   ]
  },
  {
   "cell_type": "code",
   "execution_count": 13,
   "id": "059281dd",
   "metadata": {},
   "outputs": [
    {
     "name": "stdout",
     "output_type": "stream",
     "text": [
      "              precision    recall  f1-score   support\n",
      "\n",
      "           0       0.95      0.94      0.95     24223\n",
      "           1       0.21      0.23      0.22      1632\n",
      "\n",
      "    accuracy                           0.90     25855\n",
      "   macro avg       0.58      0.59      0.58     25855\n",
      "weighted avg       0.90      0.90      0.90     25855\n",
      "\n",
      "\n",
      "\n",
      "[[22819  1404]\n",
      " [ 1251   381]]\n"
     ]
    }
   ],
   "source": [
    "print(classification_report(y_test, pred))\n",
    "print('\\n')\n",
    "print(confusion_matrix(y_test, pred))"
   ]
  },
  {
   "cell_type": "markdown",
   "id": "523b7a86",
   "metadata": {},
   "source": [
    "Aqui já me chamou a atenção um método computacionalmente muito mais rápido e simples ter chegado muito perto da varredura SVM! Bora pra forest:"
   ]
  },
  {
   "cell_type": "code",
   "execution_count": 19,
   "id": "7757b458",
   "metadata": {},
   "outputs": [],
   "source": [
    "from sklearn.ensemble import RandomForestClassifier\n",
    "rfc = RandomForestClassifier(n_estimators=600)"
   ]
  },
  {
   "cell_type": "code",
   "execution_count": 20,
   "id": "523c035b",
   "metadata": {},
   "outputs": [
    {
     "data": {
      "text/plain": [
       "RandomForestClassifier(n_estimators=600)"
      ]
     },
     "execution_count": 20,
     "metadata": {},
     "output_type": "execute_result"
    }
   ],
   "source": [
    "rfc.fit(X_train, y_train)"
   ]
  },
  {
   "cell_type": "code",
   "execution_count": 21,
   "id": "cb5c1a11",
   "metadata": {},
   "outputs": [],
   "source": [
    "pred = rfc.predict(X_test)"
   ]
  },
  {
   "cell_type": "code",
   "execution_count": 22,
   "id": "a2524221",
   "metadata": {},
   "outputs": [
    {
     "name": "stdout",
     "output_type": "stream",
     "text": [
      "              precision    recall  f1-score   support\n",
      "\n",
      "           0       0.94      0.99      0.97     24223\n",
      "           1       0.51      0.13      0.20      1632\n",
      "\n",
      "    accuracy                           0.94     25855\n",
      "   macro avg       0.73      0.56      0.58     25855\n",
      "weighted avg       0.92      0.94      0.92     25855\n",
      "\n",
      "\n",
      "\n",
      "[[24026   197]\n",
      " [ 1426   206]]\n"
     ]
    }
   ],
   "source": [
    "print(classification_report(y_test, pred))\n",
    "print('\\n')\n",
    "print(confusion_matrix(y_test, pred))"
   ]
  },
  {
   "cell_type": "markdown",
   "id": "b2a612fb",
   "metadata": {},
   "source": [
    "Com 600 estimators, já chega aos pés e ao meu ver passa o SVM, pode até ser por pouco, mas o recall nos verdadeiros inadimplentes foi o que marcou minha decisão. Menor do que na decision tree, ok, mas o conjunto recall e médias indicam que é o que melhor vai prever se haverá inadimplência ou não, ao meu ver."
   ]
  },
  {
   "cell_type": "code",
   "execution_count": null,
   "id": "4379ba2a",
   "metadata": {},
   "outputs": [],
   "source": []
  },
  {
   "cell_type": "code",
   "execution_count": null,
   "id": "f2c3cef8",
   "metadata": {},
   "outputs": [],
   "source": []
  }
 ],
 "metadata": {
  "kernelspec": {
   "display_name": "Python 3 (ipykernel)",
   "language": "python",
   "name": "python3"
  },
  "language_info": {
   "codemirror_mode": {
    "name": "ipython",
    "version": 3
   },
   "file_extension": ".py",
   "mimetype": "text/x-python",
   "name": "python",
   "nbconvert_exporter": "python",
   "pygments_lexer": "ipython3",
   "version": "3.10.1"
  }
 },
 "nbformat": 4,
 "nbformat_minor": 5
}
