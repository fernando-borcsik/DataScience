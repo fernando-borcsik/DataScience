{
 "cells": [
  {
   "cell_type": "code",
   "execution_count": 1,
   "id": "abd6fe59",
   "metadata": {},
   "outputs": [],
   "source": [
    "import pandas as pd\n",
    "import matplotlib.pyplot as plt\n",
    "import seaborn as sns\n",
    "%matplotlib inline"
   ]
  },
  {
   "cell_type": "code",
   "execution_count": 2,
   "id": "5a2fe1cd",
   "metadata": {},
   "outputs": [],
   "source": [
    "df = pd.read_csv('treino.csv')"
   ]
  },
  {
   "cell_type": "code",
   "execution_count": 7,
   "id": "8b85bc5b",
   "metadata": {},
   "outputs": [
    {
     "data": {
      "text/plain": [
       "21763"
      ]
     },
     "execution_count": 7,
     "metadata": {},
     "output_type": "execute_result"
    }
   ],
   "source": [
    "df['salario_mensal'].isnull().sum()"
   ]
  },
  {
   "cell_type": "code",
   "execution_count": 8,
   "id": "93e3d2eb",
   "metadata": {},
   "outputs": [
    {
     "name": "stdout",
     "output_type": "stream",
     "text": [
      "<class 'pandas.core.frame.DataFrame'>\n",
      "RangeIndex: 110000 entries, 0 to 109999\n",
      "Data columns (total 11 columns):\n",
      " #   Column                                 Non-Null Count   Dtype  \n",
      "---  ------                                 --------------   -----  \n",
      " 0   inadimplente                           110000 non-null  int64  \n",
      " 1   util_linhas_inseguras                  110000 non-null  float64\n",
      " 2   idade                                  110000 non-null  int64  \n",
      " 3   vezes_passou_de_30_59_dias             110000 non-null  int64  \n",
      " 4   razao_debito                           110000 non-null  float64\n",
      " 5   salario_mensal                         88237 non-null   float64\n",
      " 6   numero_linhas_crdto_aberto             110000 non-null  int64  \n",
      " 7   numero_vezes_passou_90_dias            110000 non-null  int64  \n",
      " 8   numero_emprestimos_imobiliarios        110000 non-null  int64  \n",
      " 9   numero_de_vezes_que_passou_60_89_dias  110000 non-null  int64  \n",
      " 10  numero_de_dependentes                  107122 non-null  float64\n",
      "dtypes: float64(4), int64(7)\n",
      "memory usage: 9.2 MB\n"
     ]
    }
   ],
   "source": [
    "df.info()"
   ]
  },
  {
   "cell_type": "code",
   "execution_count": 19,
   "id": "a4f63ee8",
   "metadata": {},
   "outputs": [
    {
     "data": {
      "text/plain": [
       "<AxesSubplot:>"
      ]
     },
     "execution_count": 19,
     "metadata": {},
     "output_type": "execute_result"
    },
    {
     "data": {
      "image/png": "[encoded data removed]",
      "text/plain": [
       "<Figure size 432x288 with 1 Axes>"
      ]
     },
     "metadata": {
      "needs_background": "light"
     },
     "output_type": "display_data"
    }
   ],
   "source": [
    "sns.heatmap(df.isnull(),yticklabels=False,cbar=False,cmap='viridis')"
   ]
  },
  {
   "cell_type": "code",
   "execution_count": 12,
   "id": "3c92fccd",
   "metadata": {},
   "outputs": [],
   "source": [
    "from sklearn.model_selection import train_test_split"
   ]
  },
  {
   "cell_type": "code",
   "execution_count": 14,
   "id": "7e60f407",
   "metadata": {},
   "outputs": [],
   "source": [
    "X_train, X_test, y_train, y_test = train_test_split(df.drop('inadimplente', axis=1), df['inadimplente'], test_size=0.30)"
   ]
  },
  {
   "cell_type": "code",
   "execution_count": 16,
   "id": "fd4fafa5",
   "metadata": {},
   "outputs": [
    {
     "name": "stdout",
     "output_type": "stream",
     "text": [
      "Fitting 5 folds for each of 25 candidates, totalling 125 fits\n",
      "[CV 1/5] END ..........C=0.1, gamma=1, kernel=rbf;, score=nan total time=   0.0s\n",
      "[CV 2/5] END ..........C=0.1, gamma=1, kernel=rbf;, score=nan total time=   0.0s\n",
      "[CV 3/5] END ..........C=0.1, gamma=1, kernel=rbf;, score=nan total time=   0.0s\n",
      "[CV 4/5] END ..........C=0.1, gamma=1, kernel=rbf;, score=nan total time=   0.0s\n",
      "[CV 5/5] END ..........C=0.1, gamma=1, kernel=rbf;, score=nan total time=   0.0s\n",
      "[CV 1/5] END ........C=0.1, gamma=0.1, kernel=rbf;, score=nan total time=   0.0s\n",
      "[CV 2/5] END ........C=0.1, gamma=0.1, kernel=rbf;, score=nan total time=   0.0s\n",
      "[CV 3/5] END ........C=0.1, gamma=0.1, kernel=rbf;, score=nan total time=   0.0s\n",
      "[CV 4/5] END ........C=0.1, gamma=0.1, kernel=rbf;, score=nan total time=   0.0s\n",
      "[CV 5/5] END ........C=0.1, gamma=0.1, kernel=rbf;, score=nan total time=   0.0s\n",
      "[CV 1/5] END .......C=0.1, gamma=0.01, kernel=rbf;, score=nan total time=   0.0s\n",
      "[CV 2/5] END .......C=0.1, gamma=0.01, kernel=rbf;, score=nan total time=   0.0s\n",
      "[CV 3/5] END .......C=0.1, gamma=0.01, kernel=rbf;, score=nan total time=   0.0s\n",
      "[CV 4/5] END .......C=0.1, gamma=0.01, kernel=rbf;, score=nan total time=   0.0s\n",
      "[CV 5/5] END .......C=0.1, gamma=0.01, kernel=rbf;, score=nan total time=   0.0s\n",
      "[CV 1/5] END ......C=0.1, gamma=0.001, kernel=rbf;, score=nan total time=   0.0s\n",
      "[CV 2/5] END ......C=0.1, gamma=0.001, kernel=rbf;, score=nan total time=   0.0s\n",
      "[CV 3/5] END ......C=0.1, gamma=0.001, kernel=rbf;, score=nan total time=   0.0s\n",
      "[CV 4/5] END ......C=0.1, gamma=0.001, kernel=rbf;, score=nan total time=   0.0s\n",
      "[CV 5/5] END ......C=0.1, gamma=0.001, kernel=rbf;, score=nan total time=   0.0s\n",
      "[CV 1/5] END .....C=0.1, gamma=0.0001, kernel=rbf;, score=nan total time=   0.0s\n",
      "[CV 2/5] END .....C=0.1, gamma=0.0001, kernel=rbf;, score=nan total time=   0.0s\n",
      "[CV 3/5] END .....C=0.1, gamma=0.0001, kernel=rbf;, score=nan total time=   0.0s\n",
      "[CV 4/5] END .....C=0.1, gamma=0.0001, kernel=rbf;, score=nan total time=   0.0s\n",
      "[CV 5/5] END .....C=0.1, gamma=0.0001, kernel=rbf;, score=nan total time=   0.0s\n",
      "[CV 1/5] END ............C=1, gamma=1, kernel=rbf;, score=nan total time=   0.0s\n",
      "[CV 2/5] END ............C=1, gamma=1, kernel=rbf;, score=nan total time=   0.0s\n",
      "[CV 3/5] END ............C=1, gamma=1, kernel=rbf;, score=nan total time=   0.0s\n",
      "[CV 4/5] END ............C=1, gamma=1, kernel=rbf;, score=nan total time=   0.0s\n",
      "[CV 5/5] END ............C=1, gamma=1, kernel=rbf;, score=nan total time=   0.0s\n",
      "[CV 1/5] END ..........C=1, gamma=0.1, kernel=rbf;, score=nan total time=   0.0s\n",
      "[CV 2/5] END ..........C=1, gamma=0.1, kernel=rbf;, score=nan total time=   0.0s\n",
      "[CV 3/5] END ..........C=1, gamma=0.1, kernel=rbf;, score=nan total time=   0.0s\n",
      "[CV 4/5] END ..........C=1, gamma=0.1, kernel=rbf;, score=nan total time=   0.0s\n",
      "[CV 5/5] END ..........C=1, gamma=0.1, kernel=rbf;, score=nan total time=   0.0s\n",
      "[CV 1/5] END .........C=1, gamma=0.01, kernel=rbf;, score=nan total time=   0.0s\n",
      "[CV 2/5] END .........C=1, gamma=0.01, kernel=rbf;, score=nan total time=   0.0s\n",
      "[CV 3/5] END .........C=1, gamma=0.01, kernel=rbf;, score=nan total time=   0.0s\n",
      "[CV 4/5] END .........C=1, gamma=0.01, kernel=rbf;, score=nan total time=   0.0s\n",
      "[CV 5/5] END .........C=1, gamma=0.01, kernel=rbf;, score=nan total time=   0.0s\n",
      "[CV 1/5] END ........C=1, gamma=0.001, kernel=rbf;, score=nan total time=   0.0s\n",
      "[CV 2/5] END ........C=1, gamma=0.001, kernel=rbf;, score=nan total time=   0.0s\n",
      "[CV 3/5] END ........C=1, gamma=0.001, kernel=rbf;, score=nan total time=   0.0s\n",
      "[CV 4/5] END ........C=1, gamma=0.001, kernel=rbf;, score=nan total time=   0.0s\n",
      "[CV 5/5] END ........C=1, gamma=0.001, kernel=rbf;, score=nan total time=   0.0s\n",
      "[CV 1/5] END .......C=1, gamma=0.0001, kernel=rbf;, score=nan total time=   0.0s\n",
      "[CV 2/5] END .......C=1, gamma=0.0001, kernel=rbf;, score=nan total time=   0.0s\n",
      "[CV 3/5] END .......C=1, gamma=0.0001, kernel=rbf;, score=nan total time=   0.0s\n",
      "[CV 4/5] END .......C=1, gamma=0.0001, kernel=rbf;, score=nan total time=   0.0s\n",
      "[CV 5/5] END .......C=1, gamma=0.0001, kernel=rbf;, score=nan total time=   0.0s\n",
      "[CV 1/5] END ...........C=10, gamma=1, kernel=rbf;, score=nan total time=   0.0s\n",
      "[CV 2/5] END ...........C=10, gamma=1, kernel=rbf;, score=nan total time=   0.0s\n",
      "[CV 3/5] END ...........C=10, gamma=1, kernel=rbf;, score=nan total time=   0.0s\n",
      "[CV 4/5] END ...........C=10, gamma=1, kernel=rbf;, score=nan total time=   0.0s\n",
      "[CV 5/5] END ...........C=10, gamma=1, kernel=rbf;, score=nan total time=   0.0s\n",
      "[CV 1/5] END .........C=10, gamma=0.1, kernel=rbf;, score=nan total time=   0.0s\n",
      "[CV 2/5] END .........C=10, gamma=0.1, kernel=rbf;, score=nan total time=   0.0s\n",
      "[CV 3/5] END .........C=10, gamma=0.1, kernel=rbf;, score=nan total time=   0.0s\n",
      "[CV 4/5] END .........C=10, gamma=0.1, kernel=rbf;, score=nan total time=   0.0s\n",
      "[CV 5/5] END .........C=10, gamma=0.1, kernel=rbf;, score=nan total time=   0.0s\n",
      "[CV 1/5] END ........C=10, gamma=0.01, kernel=rbf;, score=nan total time=   0.0s\n",
      "[CV 2/5] END ........C=10, gamma=0.01, kernel=rbf;, score=nan total time=   0.0s\n",
      "[CV 3/5] END ........C=10, gamma=0.01, kernel=rbf;, score=nan total time=   0.0s\n",
      "[CV 4/5] END ........C=10, gamma=0.01, kernel=rbf;, score=nan total time=   0.0s\n",
      "[CV 5/5] END ........C=10, gamma=0.01, kernel=rbf;, score=nan total time=   0.0s\n",
      "[CV 1/5] END .......C=10, gamma=0.001, kernel=rbf;, score=nan total time=   0.0s\n",
      "[CV 2/5] END .......C=10, gamma=0.001, kernel=rbf;, score=nan total time=   0.0s\n",
      "[CV 3/5] END .......C=10, gamma=0.001, kernel=rbf;, score=nan total time=   0.0s\n",
      "[CV 4/5] END .......C=10, gamma=0.001, kernel=rbf;, score=nan total time=   0.0s\n",
      "[CV 5/5] END .......C=10, gamma=0.001, kernel=rbf;, score=nan total time=   0.0s\n",
      "[CV 1/5] END ......C=10, gamma=0.0001, kernel=rbf;, score=nan total time=   0.0s\n",
      "[CV 2/5] END ......C=10, gamma=0.0001, kernel=rbf;, score=nan total time=   0.0s\n",
      "[CV 3/5] END ......C=10, gamma=0.0001, kernel=rbf;, score=nan total time=   0.0s\n",
      "[CV 4/5] END ......C=10, gamma=0.0001, kernel=rbf;, score=nan total time=   0.0s\n",
      "[CV 5/5] END ......C=10, gamma=0.0001, kernel=rbf;, score=nan total time=   0.0s\n",
      "[CV 1/5] END ..........C=100, gamma=1, kernel=rbf;, score=nan total time=   0.0s\n",
      "[CV 2/5] END ..........C=100, gamma=1, kernel=rbf;, score=nan total time=   0.0s\n",
      "[CV 3/5] END ..........C=100, gamma=1, kernel=rbf;, score=nan total time=   0.0s\n",
      "[CV 4/5] END ..........C=100, gamma=1, kernel=rbf;, score=nan total time=   0.0s\n",
      "[CV 5/5] END ..........C=100, gamma=1, kernel=rbf;, score=nan total time=   0.0s\n",
      "[CV 1/5] END ........C=100, gamma=0.1, kernel=rbf;, score=nan total time=   0.0s\n",
      "[CV 2/5] END ........C=100, gamma=0.1, kernel=rbf;, score=nan total time=   0.0s\n",
      "[CV 3/5] END ........C=100, gamma=0.1, kernel=rbf;, score=nan total time=   0.0s\n",
      "[CV 4/5] END ........C=100, gamma=0.1, kernel=rbf;, score=nan total time=   0.0s\n",
      "[CV 5/5] END ........C=100, gamma=0.1, kernel=rbf;, score=nan total time=   0.0s\n",
      "[CV 1/5] END .......C=100, gamma=0.01, kernel=rbf;, score=nan total time=   0.0s\n",
      "[CV 2/5] END .......C=100, gamma=0.01, kernel=rbf;, score=nan total time=   0.0s\n",
      "[CV 3/5] END .......C=100, gamma=0.01, kernel=rbf;, score=nan total time=   0.0s\n",
      "[CV 4/5] END .......C=100, gamma=0.01, kernel=rbf;, score=nan total time=   0.0s\n",
      "[CV 5/5] END .......C=100, gamma=0.01, kernel=rbf;, score=nan total time=   0.0s\n",
      "[CV 1/5] END ......C=100, gamma=0.001, kernel=rbf;, score=nan total time=   0.0s\n",
      "[CV 2/5] END ......C=100, gamma=0.001, kernel=rbf;, score=nan total time=   0.0s\n",
      "[CV 3/5] END ......C=100, gamma=0.001, kernel=rbf;, score=nan total time=   0.0s\n",
      "[CV 4/5] END ......C=100, gamma=0.001, kernel=rbf;, score=nan total time=   0.0s\n",
      "[CV 5/5] END ......C=100, gamma=0.001, kernel=rbf;, score=nan total time=   0.0s\n",
      "[CV 1/5] END .....C=100, gamma=0.0001, kernel=rbf;, score=nan total time=   0.0s\n",
      "[CV 2/5] END .....C=100, gamma=0.0001, kernel=rbf;, score=nan total time=   0.0s\n",
      "[CV 3/5] END .....C=100, gamma=0.0001, kernel=rbf;, score=nan total time=   0.0s\n",
      "[CV 4/5] END .....C=100, gamma=0.0001, kernel=rbf;, score=nan total time=   0.0s\n",
      "[CV 5/5] END .....C=100, gamma=0.0001, kernel=rbf;, score=nan total time=   0.0s\n",
      "[CV 1/5] END .........C=1000, gamma=1, kernel=rbf;, score=nan total time=   0.0s\n",
      "[CV 2/5] END .........C=1000, gamma=1, kernel=rbf;, score=nan total time=   0.0s\n"
     ]
    },
    {
     "name": "stdout",
     "output_type": "stream",
     "text": [
      "[CV 3/5] END .........C=1000, gamma=1, kernel=rbf;, score=nan total time=   0.0s\n",
      "[CV 4/5] END .........C=1000, gamma=1, kernel=rbf;, score=nan total time=   0.0s\n",
      "[CV 5/5] END .........C=1000, gamma=1, kernel=rbf;, score=nan total time=   0.0s\n",
      "[CV 1/5] END .......C=1000, gamma=0.1, kernel=rbf;, score=nan total time=   0.0s\n",
      "[CV 2/5] END .......C=1000, gamma=0.1, kernel=rbf;, score=nan total time=   0.0s\n",
      "[CV 3/5] END .......C=1000, gamma=0.1, kernel=rbf;, score=nan total time=   0.0s\n",
      "[CV 4/5] END .......C=1000, gamma=0.1, kernel=rbf;, score=nan total time=   0.0s\n",
      "[CV 5/5] END .......C=1000, gamma=0.1, kernel=rbf;, score=nan total time=   0.0s\n",
      "[CV 1/5] END ......C=1000, gamma=0.01, kernel=rbf;, score=nan total time=   0.0s\n",
      "[CV 2/5] END ......C=1000, gamma=0.01, kernel=rbf;, score=nan total time=   0.0s\n",
      "[CV 3/5] END ......C=1000, gamma=0.01, kernel=rbf;, score=nan total time=   0.0s\n",
      "[CV 4/5] END ......C=1000, gamma=0.01, kernel=rbf;, score=nan total time=   0.0s\n",
      "[CV 5/5] END ......C=1000, gamma=0.01, kernel=rbf;, score=nan total time=   0.0s\n",
      "[CV 1/5] END .....C=1000, gamma=0.001, kernel=rbf;, score=nan total time=   0.0s\n",
      "[CV 2/5] END .....C=1000, gamma=0.001, kernel=rbf;, score=nan total time=   0.0s\n",
      "[CV 3/5] END .....C=1000, gamma=0.001, kernel=rbf;, score=nan total time=   0.0s\n",
      "[CV 4/5] END .....C=1000, gamma=0.001, kernel=rbf;, score=nan total time=   0.0s\n",
      "[CV 5/5] END .....C=1000, gamma=0.001, kernel=rbf;, score=nan total time=   0.0s\n",
      "[CV 1/5] END ....C=1000, gamma=0.0001, kernel=rbf;, score=nan total time=   0.0s\n",
      "[CV 2/5] END ....C=1000, gamma=0.0001, kernel=rbf;, score=nan total time=   0.0s\n",
      "[CV 3/5] END ....C=1000, gamma=0.0001, kernel=rbf;, score=nan total time=   0.0s\n",
      "[CV 4/5] END ....C=1000, gamma=0.0001, kernel=rbf;, score=nan total time=   0.0s\n",
      "[CV 5/5] END ....C=1000, gamma=0.0001, kernel=rbf;, score=nan total time=   0.0s\n"
     ]
    },
    {
     "name": "stderr",
     "output_type": "stream",
     "text": [
      "C:\\Users\\Antonio carlos\\AppData\\Local\\Programs\\Python\\Python310\\lib\\site-packages\\sklearn\\model_selection\\_validation.py:372: FitFailedWarning: \n",
      "125 fits failed out of a total of 125.\n",
      "The score on these train-test partitions for these parameters will be set to nan.\n",
      "If these failures are not expected, you can try to debug them by setting error_score='raise'.\n",
      "\n",
      "Below are more details about the failures:\n",
      "--------------------------------------------------------------------------------\n",
      "125 fits failed with the following error:\n",
      "Traceback (most recent call last):\n",
      "  File \"C:\\Users\\Antonio carlos\\AppData\\Local\\Programs\\Python\\Python310\\lib\\site-packages\\sklearn\\model_selection\\_validation.py\", line 680, in _fit_and_score\n",
      "    estimator.fit(X_train, y_train, **fit_params)\n",
      "  File \"C:\\Users\\Antonio carlos\\AppData\\Local\\Programs\\Python\\Python310\\lib\\site-packages\\sklearn\\svm\\_base.py\", line 190, in fit\n",
      "    X, y = self._validate_data(\n",
      "  File \"C:\\Users\\Antonio carlos\\AppData\\Local\\Programs\\Python\\Python310\\lib\\site-packages\\sklearn\\base.py\", line 581, in _validate_data\n",
      "    X, y = check_X_y(X, y, **check_params)\n",
      "  File \"C:\\Users\\Antonio carlos\\AppData\\Local\\Programs\\Python\\Python310\\lib\\site-packages\\sklearn\\utils\\validation.py\", line 964, in check_X_y\n",
      "    X = check_array(\n",
      "  File \"C:\\Users\\Antonio carlos\\AppData\\Local\\Programs\\Python\\Python310\\lib\\site-packages\\sklearn\\utils\\validation.py\", line 800, in check_array\n",
      "    _assert_all_finite(array, allow_nan=force_all_finite == \"allow-nan\")\n",
      "  File \"C:\\Users\\Antonio carlos\\AppData\\Local\\Programs\\Python\\Python310\\lib\\site-packages\\sklearn\\utils\\validation.py\", line 114, in _assert_all_finite\n",
      "    raise ValueError(\n",
      "ValueError: Input contains NaN, infinity or a value too large for dtype('float64').\n",
      "\n",
      "  warnings.warn(some_fits_failed_message, FitFailedWarning)\n",
      "C:\\Users\\Antonio carlos\\AppData\\Local\\Programs\\Python\\Python310\\lib\\site-packages\\sklearn\\model_selection\\_search.py:969: UserWarning: One or more of the test scores are non-finite: [nan nan nan nan nan nan nan nan nan nan nan nan nan nan nan nan nan nan\n",
      " nan nan nan nan nan nan nan]\n",
      "  warnings.warn(\n"
     ]
    },
    {
     "ename": "ValueError",
     "evalue": "Input contains NaN, infinity or a value too large for dtype('float64').",
     "output_type": "error",
     "traceback": [
      "\u001b[1;31m---------------------------------------------------------------------------\u001b[0m",
      "\u001b[1;31mValueError\u001b[0m                                Traceback (most recent call last)",
      "\u001b[1;32mC:\\Users\\ANTONI~1\\AppData\\Local\\Temp/ipykernel_19508/2290216018.py\u001b[0m in \u001b[0;36m<module>\u001b[1;34m\u001b[0m\n\u001b[0;32m      4\u001b[0m \u001b[0mgrid\u001b[0m \u001b[1;33m=\u001b[0m \u001b[0mGridSearchCV\u001b[0m\u001b[1;33m(\u001b[0m\u001b[0mSVC\u001b[0m\u001b[1;33m(\u001b[0m\u001b[1;33m)\u001b[0m\u001b[1;33m,\u001b[0m\u001b[0mparam_grid\u001b[0m\u001b[1;33m,\u001b[0m\u001b[0mrefit\u001b[0m\u001b[1;33m=\u001b[0m\u001b[1;32mTrue\u001b[0m\u001b[1;33m,\u001b[0m\u001b[0mverbose\u001b[0m\u001b[1;33m=\u001b[0m\u001b[1;36m3\u001b[0m\u001b[1;33m)\u001b[0m\u001b[1;33m\u001b[0m\u001b[1;33m\u001b[0m\u001b[0m\n\u001b[0;32m      5\u001b[0m \u001b[1;31m# Talvez demore um pouco\u001b[0m\u001b[1;33m\u001b[0m\u001b[1;33m\u001b[0m\u001b[0m\n\u001b[1;32m----> 6\u001b[1;33m \u001b[0mgrid\u001b[0m\u001b[1;33m.\u001b[0m\u001b[0mfit\u001b[0m\u001b[1;33m(\u001b[0m\u001b[0mX_train\u001b[0m\u001b[1;33m,\u001b[0m\u001b[0my_train\u001b[0m\u001b[1;33m)\u001b[0m\u001b[1;33m\u001b[0m\u001b[1;33m\u001b[0m\u001b[0m\n\u001b[0m",
      "\u001b[1;32m~\\AppData\\Local\\Programs\\Python\\Python310\\lib\\site-packages\\sklearn\\model_selection\\_search.py\u001b[0m in \u001b[0;36mfit\u001b[1;34m(self, X, y, groups, **fit_params)\u001b[0m\n\u001b[0;32m    924\u001b[0m             \u001b[0mrefit_start_time\u001b[0m \u001b[1;33m=\u001b[0m \u001b[0mtime\u001b[0m\u001b[1;33m.\u001b[0m\u001b[0mtime\u001b[0m\u001b[1;33m(\u001b[0m\u001b[1;33m)\u001b[0m\u001b[1;33m\u001b[0m\u001b[1;33m\u001b[0m\u001b[0m\n\u001b[0;32m    925\u001b[0m             \u001b[1;32mif\u001b[0m \u001b[0my\u001b[0m \u001b[1;32mis\u001b[0m \u001b[1;32mnot\u001b[0m \u001b[1;32mNone\u001b[0m\u001b[1;33m:\u001b[0m\u001b[1;33m\u001b[0m\u001b[1;33m\u001b[0m\u001b[0m\n\u001b[1;32m--> 926\u001b[1;33m                 \u001b[0mself\u001b[0m\u001b[1;33m.\u001b[0m\u001b[0mbest_estimator_\u001b[0m\u001b[1;33m.\u001b[0m\u001b[0mfit\u001b[0m\u001b[1;33m(\u001b[0m\u001b[0mX\u001b[0m\u001b[1;33m,\u001b[0m \u001b[0my\u001b[0m\u001b[1;33m,\u001b[0m \u001b[1;33m**\u001b[0m\u001b[0mfit_params\u001b[0m\u001b[1;33m)\u001b[0m\u001b[1;33m\u001b[0m\u001b[1;33m\u001b[0m\u001b[0m\n\u001b[0m\u001b[0;32m    927\u001b[0m             \u001b[1;32melse\u001b[0m\u001b[1;33m:\u001b[0m\u001b[1;33m\u001b[0m\u001b[1;33m\u001b[0m\u001b[0m\n\u001b[0;32m    928\u001b[0m                 \u001b[0mself\u001b[0m\u001b[1;33m.\u001b[0m\u001b[0mbest_estimator_\u001b[0m\u001b[1;33m.\u001b[0m\u001b[0mfit\u001b[0m\u001b[1;33m(\u001b[0m\u001b[0mX\u001b[0m\u001b[1;33m,\u001b[0m \u001b[1;33m**\u001b[0m\u001b[0mfit_params\u001b[0m\u001b[1;33m)\u001b[0m\u001b[1;33m\u001b[0m\u001b[1;33m\u001b[0m\u001b[0m\n",
      "\u001b[1;32m~\\AppData\\Local\\Programs\\Python\\Python310\\lib\\site-packages\\sklearn\\svm\\_base.py\u001b[0m in \u001b[0;36mfit\u001b[1;34m(self, X, y, sample_weight)\u001b[0m\n\u001b[0;32m    188\u001b[0m             \u001b[0mcheck_consistent_length\u001b[0m\u001b[1;33m(\u001b[0m\u001b[0mX\u001b[0m\u001b[1;33m,\u001b[0m \u001b[0my\u001b[0m\u001b[1;33m)\u001b[0m\u001b[1;33m\u001b[0m\u001b[1;33m\u001b[0m\u001b[0m\n\u001b[0;32m    189\u001b[0m         \u001b[1;32melse\u001b[0m\u001b[1;33m:\u001b[0m\u001b[1;33m\u001b[0m\u001b[1;33m\u001b[0m\u001b[0m\n\u001b[1;32m--> 190\u001b[1;33m             X, y = self._validate_data(\n\u001b[0m\u001b[0;32m    191\u001b[0m                 \u001b[0mX\u001b[0m\u001b[1;33m,\u001b[0m\u001b[1;33m\u001b[0m\u001b[1;33m\u001b[0m\u001b[0m\n\u001b[0;32m    192\u001b[0m                 \u001b[0my\u001b[0m\u001b[1;33m,\u001b[0m\u001b[1;33m\u001b[0m\u001b[1;33m\u001b[0m\u001b[0m\n",
      "\u001b[1;32m~\\AppData\\Local\\Programs\\Python\\Python310\\lib\\site-packages\\sklearn\\base.py\u001b[0m in \u001b[0;36m_validate_data\u001b[1;34m(self, X, y, reset, validate_separately, **check_params)\u001b[0m\n\u001b[0;32m    579\u001b[0m                 \u001b[0my\u001b[0m \u001b[1;33m=\u001b[0m \u001b[0mcheck_array\u001b[0m\u001b[1;33m(\u001b[0m\u001b[0my\u001b[0m\u001b[1;33m,\u001b[0m \u001b[1;33m**\u001b[0m\u001b[0mcheck_y_params\u001b[0m\u001b[1;33m)\u001b[0m\u001b[1;33m\u001b[0m\u001b[1;33m\u001b[0m\u001b[0m\n\u001b[0;32m    580\u001b[0m             \u001b[1;32melse\u001b[0m\u001b[1;33m:\u001b[0m\u001b[1;33m\u001b[0m\u001b[1;33m\u001b[0m\u001b[0m\n\u001b[1;32m--> 581\u001b[1;33m                 \u001b[0mX\u001b[0m\u001b[1;33m,\u001b[0m \u001b[0my\u001b[0m \u001b[1;33m=\u001b[0m \u001b[0mcheck_X_y\u001b[0m\u001b[1;33m(\u001b[0m\u001b[0mX\u001b[0m\u001b[1;33m,\u001b[0m \u001b[0my\u001b[0m\u001b[1;33m,\u001b[0m \u001b[1;33m**\u001b[0m\u001b[0mcheck_params\u001b[0m\u001b[1;33m)\u001b[0m\u001b[1;33m\u001b[0m\u001b[1;33m\u001b[0m\u001b[0m\n\u001b[0m\u001b[0;32m    582\u001b[0m             \u001b[0mout\u001b[0m \u001b[1;33m=\u001b[0m \u001b[0mX\u001b[0m\u001b[1;33m,\u001b[0m \u001b[0my\u001b[0m\u001b[1;33m\u001b[0m\u001b[1;33m\u001b[0m\u001b[0m\n\u001b[0;32m    583\u001b[0m \u001b[1;33m\u001b[0m\u001b[0m\n",
      "\u001b[1;32m~\\AppData\\Local\\Programs\\Python\\Python310\\lib\\site-packages\\sklearn\\utils\\validation.py\u001b[0m in \u001b[0;36mcheck_X_y\u001b[1;34m(X, y, accept_sparse, accept_large_sparse, dtype, order, copy, force_all_finite, ensure_2d, allow_nd, multi_output, ensure_min_samples, ensure_min_features, y_numeric, estimator)\u001b[0m\n\u001b[0;32m    962\u001b[0m         \u001b[1;32mraise\u001b[0m \u001b[0mValueError\u001b[0m\u001b[1;33m(\u001b[0m\u001b[1;34m\"y cannot be None\"\u001b[0m\u001b[1;33m)\u001b[0m\u001b[1;33m\u001b[0m\u001b[1;33m\u001b[0m\u001b[0m\n\u001b[0;32m    963\u001b[0m \u001b[1;33m\u001b[0m\u001b[0m\n\u001b[1;32m--> 964\u001b[1;33m     X = check_array(\n\u001b[0m\u001b[0;32m    965\u001b[0m         \u001b[0mX\u001b[0m\u001b[1;33m,\u001b[0m\u001b[1;33m\u001b[0m\u001b[1;33m\u001b[0m\u001b[0m\n\u001b[0;32m    966\u001b[0m         \u001b[0maccept_sparse\u001b[0m\u001b[1;33m=\u001b[0m\u001b[0maccept_sparse\u001b[0m\u001b[1;33m,\u001b[0m\u001b[1;33m\u001b[0m\u001b[1;33m\u001b[0m\u001b[0m\n",
      "\u001b[1;32m~\\AppData\\Local\\Programs\\Python\\Python310\\lib\\site-packages\\sklearn\\utils\\validation.py\u001b[0m in \u001b[0;36mcheck_array\u001b[1;34m(array, accept_sparse, accept_large_sparse, dtype, order, copy, force_all_finite, ensure_2d, allow_nd, ensure_min_samples, ensure_min_features, estimator)\u001b[0m\n\u001b[0;32m    798\u001b[0m \u001b[1;33m\u001b[0m\u001b[0m\n\u001b[0;32m    799\u001b[0m         \u001b[1;32mif\u001b[0m \u001b[0mforce_all_finite\u001b[0m\u001b[1;33m:\u001b[0m\u001b[1;33m\u001b[0m\u001b[1;33m\u001b[0m\u001b[0m\n\u001b[1;32m--> 800\u001b[1;33m             \u001b[0m_assert_all_finite\u001b[0m\u001b[1;33m(\u001b[0m\u001b[0marray\u001b[0m\u001b[1;33m,\u001b[0m \u001b[0mallow_nan\u001b[0m\u001b[1;33m=\u001b[0m\u001b[0mforce_all_finite\u001b[0m \u001b[1;33m==\u001b[0m \u001b[1;34m\"allow-nan\"\u001b[0m\u001b[1;33m)\u001b[0m\u001b[1;33m\u001b[0m\u001b[1;33m\u001b[0m\u001b[0m\n\u001b[0m\u001b[0;32m    801\u001b[0m \u001b[1;33m\u001b[0m\u001b[0m\n\u001b[0;32m    802\u001b[0m     \u001b[1;32mif\u001b[0m \u001b[0mensure_min_samples\u001b[0m \u001b[1;33m>\u001b[0m \u001b[1;36m0\u001b[0m\u001b[1;33m:\u001b[0m\u001b[1;33m\u001b[0m\u001b[1;33m\u001b[0m\u001b[0m\n",
      "\u001b[1;32m~\\AppData\\Local\\Programs\\Python\\Python310\\lib\\site-packages\\sklearn\\utils\\validation.py\u001b[0m in \u001b[0;36m_assert_all_finite\u001b[1;34m(X, allow_nan, msg_dtype)\u001b[0m\n\u001b[0;32m    112\u001b[0m         ):\n\u001b[0;32m    113\u001b[0m             \u001b[0mtype_err\u001b[0m \u001b[1;33m=\u001b[0m \u001b[1;34m\"infinity\"\u001b[0m \u001b[1;32mif\u001b[0m \u001b[0mallow_nan\u001b[0m \u001b[1;32melse\u001b[0m \u001b[1;34m\"NaN, infinity\"\u001b[0m\u001b[1;33m\u001b[0m\u001b[1;33m\u001b[0m\u001b[0m\n\u001b[1;32m--> 114\u001b[1;33m             raise ValueError(\n\u001b[0m\u001b[0;32m    115\u001b[0m                 msg_err.format(\n\u001b[0;32m    116\u001b[0m                     \u001b[0mtype_err\u001b[0m\u001b[1;33m,\u001b[0m \u001b[0mmsg_dtype\u001b[0m \u001b[1;32mif\u001b[0m \u001b[0mmsg_dtype\u001b[0m \u001b[1;32mis\u001b[0m \u001b[1;32mnot\u001b[0m \u001b[1;32mNone\u001b[0m \u001b[1;32melse\u001b[0m \u001b[0mX\u001b[0m\u001b[1;33m.\u001b[0m\u001b[0mdtype\u001b[0m\u001b[1;33m\u001b[0m\u001b[1;33m\u001b[0m\u001b[0m\n",
      "\u001b[1;31mValueError\u001b[0m: Input contains NaN, infinity or a value too large for dtype('float64')."
     ]
    }
   ],
   "source": [
    "param_grid = {'C': [0.1,1, 10, 100, 1000], 'gamma': [1,0.1,0.01,0.001,0.0001], 'kernel': ['rbf']} \n",
    "from sklearn.model_selection import GridSearchCV\n",
    "from sklearn.svm import SVC\n",
    "grid = GridSearchCV(SVC(),param_grid,refit=True,verbose=3)\n",
    "# Talvez demore um pouco\n",
    "grid.fit(df.drop(['inadimplente','salario_mensal','numero_de_dependentes'], axis=1),)"
   ]
  },
  {
   "cell_type": "code",
   "execution_count": null,
   "id": "0497c856",
   "metadata": {},
   "outputs": [],
   "source": []
  }
 ],
 "metadata": {
  "kernelspec": {
   "display_name": "Python 3 (ipykernel)",
   "language": "python",
   "name": "python3"
  },
  "language_info": {
   "codemirror_mode": {
    "name": "ipython",
    "version": 3
   },
   "file_extension": ".py",
   "mimetype": "text/x-python",
   "name": "python",
   "nbconvert_exporter": "python",
   "pygments_lexer": "ipython3",
   "version": "3.10.1"
  }
 },
 "nbformat": 4,
 "nbformat_minor": 5
}
