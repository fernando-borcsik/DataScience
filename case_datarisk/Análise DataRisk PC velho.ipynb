{
 "cells": [
  {
   "cell_type": "code",
   "execution_count": 1,
   "id": "abd6fe59",
   "metadata": {},
   "outputs": [],
   "source": [
    "import pandas as pd\n",
    "import matplotlib.pyplot as plt\n",
    "import seaborn as sns"
   ]
  },
  {
   "cell_type": "markdown",
   "id": "f7e04620",
   "metadata": {},
   "source": [
    "Aqui fiz uma investigação preliminar dos dataframes. Algumas linhas que usei para fuçar a fundo eu apaguei, mas envolviam entender os valores com os quais estava lidando. Mais abaixo, heatmaps buscando as correlações entre as grandezas, para entender a melhor forma de lidar com dados faltantes ou incoerentes."
   ]
  },
  {
   "cell_type": "code",
   "execution_count": null,
   "id": "71093577",
   "metadata": {},
   "outputs": [],
   "source": [
    "df = pd.read_csv('treino.csv')"
   ]
  },
  {
   "cell_type": "code",
   "execution_count": 3,
   "id": "a7649823",
   "metadata": {},
   "outputs": [],
   "source": [
    "test = pd.read_csv('teste.csv')"
   ]
  },
  {
   "cell_type": "code",
   "execution_count": 14,
   "id": "f59a3063",
   "metadata": {},
   "outputs": [
    {
     "data": {
      "text/plain": [
       "0.3005300549104802"
      ]
     },
     "execution_count": 14,
     "metadata": {},
     "output_type": "execute_result"
    }
   ],
   "source": [
    "test[test['util_linhas_inseguras']<=1]['util_linhas_inseguras'].mean()"
   ]
  },
  {
   "cell_type": "code",
   "execution_count": 11,
   "id": "f1a759b7",
   "metadata": {},
   "outputs": [
    {
     "data": {
      "text/html": [
       "<div>\n",
       "<style scoped>\n",
       "    .dataframe tbody tr th:only-of-type {\n",
       "        vertical-align: middle;\n",
       "    }\n",
       "\n",
       "    .dataframe tbody tr th {\n",
       "        vertical-align: top;\n",
       "    }\n",
       "\n",
       "    .dataframe thead th {\n",
       "        text-align: right;\n",
       "    }\n",
       "</style>\n",
       "<table border=\"1\" class=\"dataframe\">\n",
       "  <thead>\n",
       "    <tr style=\"text-align: right;\">\n",
       "      <th></th>\n",
       "      <th>util_linhas_inseguras</th>\n",
       "      <th>idade</th>\n",
       "      <th>vezes_passou_de_30_59_dias</th>\n",
       "      <th>razao_debito</th>\n",
       "      <th>salario_mensal</th>\n",
       "      <th>numero_linhas_crdto_aberto</th>\n",
       "      <th>numero_vezes_passou_90_dias</th>\n",
       "      <th>numero_emprestimos_imobiliarios</th>\n",
       "      <th>numero_de_vezes_que_passou_60_89_dias</th>\n",
       "      <th>numero_de_dependentes</th>\n",
       "    </tr>\n",
       "  </thead>\n",
       "  <tbody>\n",
       "    <tr>\n",
       "      <th>0</th>\n",
       "      <td>0.025849</td>\n",
       "      <td>62</td>\n",
       "      <td>0</td>\n",
       "      <td>0.081775</td>\n",
       "      <td>8180.0</td>\n",
       "      <td>3</td>\n",
       "      <td>0</td>\n",
       "      <td>2</td>\n",
       "      <td>0</td>\n",
       "      <td>0.0</td>\n",
       "    </tr>\n",
       "    <tr>\n",
       "      <th>1</th>\n",
       "      <td>0.667083</td>\n",
       "      <td>55</td>\n",
       "      <td>0</td>\n",
       "      <td>0.153112</td>\n",
       "      <td>2200.0</td>\n",
       "      <td>3</td>\n",
       "      <td>0</td>\n",
       "      <td>0</td>\n",
       "      <td>0</td>\n",
       "      <td>0.0</td>\n",
       "    </tr>\n",
       "    <tr>\n",
       "      <th>2</th>\n",
       "      <td>0.007093</td>\n",
       "      <td>44</td>\n",
       "      <td>0</td>\n",
       "      <td>0.148800</td>\n",
       "      <td>7499.0</td>\n",
       "      <td>20</td>\n",
       "      <td>0</td>\n",
       "      <td>1</td>\n",
       "      <td>0</td>\n",
       "      <td>0.0</td>\n",
       "    </tr>\n",
       "    <tr>\n",
       "      <th>3</th>\n",
       "      <td>0.091213</td>\n",
       "      <td>54</td>\n",
       "      <td>0</td>\n",
       "      <td>0.351635</td>\n",
       "      <td>5900.0</td>\n",
       "      <td>15</td>\n",
       "      <td>0</td>\n",
       "      <td>1</td>\n",
       "      <td>1</td>\n",
       "      <td>0.0</td>\n",
       "    </tr>\n",
       "    <tr>\n",
       "      <th>4</th>\n",
       "      <td>0.112680</td>\n",
       "      <td>54</td>\n",
       "      <td>0</td>\n",
       "      <td>0.065959</td>\n",
       "      <td>2167.0</td>\n",
       "      <td>3</td>\n",
       "      <td>0</td>\n",
       "      <td>0</td>\n",
       "      <td>0</td>\n",
       "      <td>0.0</td>\n",
       "    </tr>\n",
       "    <tr>\n",
       "      <th>...</th>\n",
       "      <td>...</td>\n",
       "      <td>...</td>\n",
       "      <td>...</td>\n",
       "      <td>...</td>\n",
       "      <td>...</td>\n",
       "      <td>...</td>\n",
       "      <td>...</td>\n",
       "      <td>...</td>\n",
       "      <td>...</td>\n",
       "      <td>...</td>\n",
       "    </tr>\n",
       "    <tr>\n",
       "      <th>39995</th>\n",
       "      <td>0.000000</td>\n",
       "      <td>68</td>\n",
       "      <td>1</td>\n",
       "      <td>0.062858</td>\n",
       "      <td>10833.0</td>\n",
       "      <td>9</td>\n",
       "      <td>1</td>\n",
       "      <td>0</td>\n",
       "      <td>0</td>\n",
       "      <td>0.0</td>\n",
       "    </tr>\n",
       "    <tr>\n",
       "      <th>39996</th>\n",
       "      <td>0.061117</td>\n",
       "      <td>84</td>\n",
       "      <td>0</td>\n",
       "      <td>0.013598</td>\n",
       "      <td>8456.0</td>\n",
       "      <td>7</td>\n",
       "      <td>0</td>\n",
       "      <td>0</td>\n",
       "      <td>0</td>\n",
       "      <td>0.0</td>\n",
       "    </tr>\n",
       "    <tr>\n",
       "      <th>39997</th>\n",
       "      <td>0.817745</td>\n",
       "      <td>70</td>\n",
       "      <td>0</td>\n",
       "      <td>0.663056</td>\n",
       "      <td>6000.0</td>\n",
       "      <td>17</td>\n",
       "      <td>0</td>\n",
       "      <td>2</td>\n",
       "      <td>0</td>\n",
       "      <td>0.0</td>\n",
       "    </tr>\n",
       "    <tr>\n",
       "      <th>39998</th>\n",
       "      <td>0.106139</td>\n",
       "      <td>64</td>\n",
       "      <td>2</td>\n",
       "      <td>0.865438</td>\n",
       "      <td>5045.0</td>\n",
       "      <td>12</td>\n",
       "      <td>0</td>\n",
       "      <td>4</td>\n",
       "      <td>0</td>\n",
       "      <td>0.0</td>\n",
       "    </tr>\n",
       "    <tr>\n",
       "      <th>39999</th>\n",
       "      <td>1.000000</td>\n",
       "      <td>28</td>\n",
       "      <td>0</td>\n",
       "      <td>0.002285</td>\n",
       "      <td>3500.0</td>\n",
       "      <td>0</td>\n",
       "      <td>1</td>\n",
       "      <td>0</td>\n",
       "      <td>0</td>\n",
       "      <td>0.0</td>\n",
       "    </tr>\n",
       "  </tbody>\n",
       "</table>\n",
       "<p>40000 rows × 10 columns</p>\n",
       "</div>"
      ],
      "text/plain": [
       "       util_linhas_inseguras  idade  vezes_passou_de_30_59_dias  razao_debito  \\\n",
       "0                   0.025849     62                           0      0.081775   \n",
       "1                   0.667083     55                           0      0.153112   \n",
       "2                   0.007093     44                           0      0.148800   \n",
       "3                   0.091213     54                           0      0.351635   \n",
       "4                   0.112680     54                           0      0.065959   \n",
       "...                      ...    ...                         ...           ...   \n",
       "39995               0.000000     68                           1      0.062858   \n",
       "39996               0.061117     84                           0      0.013598   \n",
       "39997               0.817745     70                           0      0.663056   \n",
       "39998               0.106139     64                           2      0.865438   \n",
       "39999               1.000000     28                           0      0.002285   \n",
       "\n",
       "       salario_mensal  numero_linhas_crdto_aberto  \\\n",
       "0              8180.0                           3   \n",
       "1              2200.0                           3   \n",
       "2              7499.0                          20   \n",
       "3              5900.0                          15   \n",
       "4              2167.0                           3   \n",
       "...               ...                         ...   \n",
       "39995         10833.0                           9   \n",
       "39996          8456.0                           7   \n",
       "39997          6000.0                          17   \n",
       "39998          5045.0                          12   \n",
       "39999          3500.0                           0   \n",
       "\n",
       "       numero_vezes_passou_90_dias  numero_emprestimos_imobiliarios  \\\n",
       "0                                0                                2   \n",
       "1                                0                                0   \n",
       "2                                0                                1   \n",
       "3                                0                                1   \n",
       "4                                0                                0   \n",
       "...                            ...                              ...   \n",
       "39995                            1                                0   \n",
       "39996                            0                                0   \n",
       "39997                            0                                2   \n",
       "39998                            0                                4   \n",
       "39999                            1                                0   \n",
       "\n",
       "       numero_de_vezes_que_passou_60_89_dias  numero_de_dependentes  \n",
       "0                                          0                    0.0  \n",
       "1                                          0                    0.0  \n",
       "2                                          0                    0.0  \n",
       "3                                          1                    0.0  \n",
       "4                                          0                    0.0  \n",
       "...                                      ...                    ...  \n",
       "39995                                      0                    0.0  \n",
       "39996                                      0                    0.0  \n",
       "39997                                      0                    0.0  \n",
       "39998                                      0                    0.0  \n",
       "39999                                      0                    0.0  \n",
       "\n",
       "[40000 rows x 10 columns]"
      ]
     },
     "execution_count": 11,
     "metadata": {},
     "output_type": "execute_result"
    }
   ],
   "source": [
    "test"
   ]
  },
  {
   "cell_type": "code",
   "execution_count": 5,
   "id": "13f39e6b",
   "metadata": {},
   "outputs": [
    {
     "data": {
      "text/plain": [
       "<AxesSubplot:>"
      ]
     },
     "execution_count": 5,
     "metadata": {},
     "output_type": "execute_result"
    },
    {
     "data": {
      "image/png": "[encoded data removed]",
      "text/plain": [
       "<Figure size 432x288 with 2 Axes>"
      ]
     },
     "metadata": {
      "needs_background": "light"
     },
     "output_type": "display_data"
    }
   ],
   "source": [
    "sns.heatmap(test.corr())"
   ]
  },
  {
   "cell_type": "code",
   "execution_count": 3,
   "id": "46ced358",
   "metadata": {},
   "outputs": [
    {
     "data": {
      "text/plain": [
       "<AxesSubplot:>"
      ]
     },
     "execution_count": 3,
     "metadata": {},
     "output_type": "execute_result"
    },
    {
     "data": {
      "image/png": "[encoded data removed]",
      "text/plain": [
       "<Figure size 432x288 with 2 Axes>"
      ]
     },
     "metadata": {
      "needs_background": "light"
     },
     "output_type": "display_data"
    }
   ],
   "source": [
    "sns.heatmap(df.corr())"
   ]
  },
  {
   "cell_type": "code",
   "execution_count": 4,
   "id": "8b85bc5b",
   "metadata": {},
   "outputs": [
    {
     "data": {
      "text/plain": [
       "21763"
      ]
     },
     "execution_count": 4,
     "metadata": {},
     "output_type": "execute_result"
    }
   ],
   "source": [
    "df['salario_mensal'].isnull().sum()"
   ]
  },
  {
   "cell_type": "code",
   "execution_count": 5,
   "id": "93e3d2eb",
   "metadata": {},
   "outputs": [
    {
     "name": "stdout",
     "output_type": "stream",
     "text": [
      "<class 'pandas.core.frame.DataFrame'>\n",
      "RangeIndex: 110000 entries, 0 to 109999\n",
      "Data columns (total 11 columns):\n",
      " #   Column                                 Non-Null Count   Dtype  \n",
      "---  ------                                 --------------   -----  \n",
      " 0   inadimplente                           110000 non-null  int64  \n",
      " 1   util_linhas_inseguras                  110000 non-null  float64\n",
      " 2   idade                                  110000 non-null  int64  \n",
      " 3   vezes_passou_de_30_59_dias             110000 non-null  int64  \n",
      " 4   razao_debito                           110000 non-null  float64\n",
      " 5   salario_mensal                         88237 non-null   float64\n",
      " 6   numero_linhas_crdto_aberto             110000 non-null  int64  \n",
      " 7   numero_vezes_passou_90_dias            110000 non-null  int64  \n",
      " 8   numero_emprestimos_imobiliarios        110000 non-null  int64  \n",
      " 9   numero_de_vezes_que_passou_60_89_dias  110000 non-null  int64  \n",
      " 10  numero_de_dependentes                  107122 non-null  float64\n",
      "dtypes: float64(4), int64(7)\n",
      "memory usage: 9.2 MB\n"
     ]
    }
   ],
   "source": [
    "df.info()"
   ]
  },
  {
   "cell_type": "markdown",
   "id": "3d8ce640",
   "metadata": {},
   "source": [
    "Heatmap com nulls"
   ]
  },
  {
   "cell_type": "code",
   "execution_count": 6,
   "id": "a4f63ee8",
   "metadata": {},
   "outputs": [
    {
     "data": {
      "text/plain": [
       "<AxesSubplot:>"
      ]
     },
     "execution_count": 6,
     "metadata": {},
     "output_type": "execute_result"
    },
    {
     "data": {
      "image/png": "[encoded data removed]",
      "text/plain": [
       "<Figure size 432x288 with 1 Axes>"
      ]
     },
     "metadata": {
      "needs_background": "light"
     },
     "output_type": "display_data"
    }
   ],
   "source": [
    "sns.heatmap(df.isnull(),yticklabels=False,cbar=False,cmap='viridis')"
   ]
  },
  {
   "cell_type": "code",
   "execution_count": 7,
   "id": "b851695f",
   "metadata": {},
   "outputs": [],
   "source": [
    "dfna = df.dropna()"
   ]
  },
  {
   "cell_type": "code",
   "execution_count": 8,
   "id": "7b102386",
   "metadata": {},
   "outputs": [],
   "source": [
    "drop_util = dfna[dfna['util_linhas_inseguras']>1].index"
   ]
  },
  {
   "cell_type": "code",
   "execution_count": 9,
   "id": "82a41b9f",
   "metadata": {},
   "outputs": [],
   "source": [
    "dfclean = dfna.drop(drop_util)"
   ]
  },
  {
   "cell_type": "code",
   "execution_count": 10,
   "id": "3c92fccd",
   "metadata": {},
   "outputs": [],
   "source": [
    "from sklearn.model_selection import train_test_split"
   ]
  },
  {
   "cell_type": "code",
   "execution_count": 57,
   "id": "7e60f407",
   "metadata": {},
   "outputs": [],
   "source": [
    "X_train, X_test, y_train, y_test = train_test_split(dfclean.drop('inadimplente', axis=1), dfclean['inadimplente'], test_size=0.30)"
   ]
  },
  {
   "cell_type": "markdown",
   "id": "1bd10844",
   "metadata": {},
   "source": [
    "Acredito que o svm seja um bom classificador em casos como esse, e decidi fazer uma varredura. Notem os tempos para análise.... meu PC está velho, interrompi e testei apenas uma dupla de parâmetros. Retomei a análise posteriormente em outro PC mais rápido, vide o outro arquivo em anexo."
   ]
  },
  {
   "cell_type": "code",
   "execution_count": null,
   "id": "fd4fafa5",
   "metadata": {},
   "outputs": [
    {
     "name": "stdout",
     "output_type": "stream",
     "text": [
      "Fitting 5 folds for each of 25 candidates, totalling 125 fits\n",
      "[CV 1/5] END ........C=0.1, gamma=1, kernel=rbf;, score=0.938 total time=15.2min\n",
      "[CV 2/5] END ........C=0.1, gamma=1, kernel=rbf;, score=0.938 total time=15.6min\n",
      "[CV 3/5] END ........C=0.1, gamma=1, kernel=rbf;, score=0.938 total time=16.0min\n",
      "[CV 4/5] END ........C=0.1, gamma=1, kernel=rbf;, score=0.938 total time=16.0min\n"
     ]
    }
   ],
   "source": [
    "param_grid = {'C': [0.1,1, 10, 100, 1000], 'gamma': [1,0.1,0.01,0.001,0.0001], 'kernel': ['rbf']} \n",
    "from sklearn.model_selection import GridSearchCV\n",
    "from sklearn.svm import SVC\n",
    "grid = GridSearchCV(SVC(),param_grid,refit=True,verbose=3)\n",
    "# Talvez demore um pouco\n",
    "grid.fit(X_train, y_train)"
   ]
  },
  {
   "cell_type": "code",
   "execution_count": 55,
   "id": "0497c856",
   "metadata": {},
   "outputs": [],
   "source": [
    "from sklearn.svm import SVC"
   ]
  },
  {
   "cell_type": "code",
   "execution_count": 56,
   "id": "7893d11c",
   "metadata": {},
   "outputs": [],
   "source": [
    "model = SVC(C=0.1, gamma=0.0001)"
   ]
  },
  {
   "cell_type": "code",
   "execution_count": 58,
   "id": "d68e4d77",
   "metadata": {},
   "outputs": [
    {
     "data": {
      "text/plain": [
       "SVC(C=0.1, gamma=0.0001)"
      ]
     },
     "execution_count": 58,
     "metadata": {},
     "output_type": "execute_result"
    }
   ],
   "source": [
    "model.fit(X_train, y_train)"
   ]
  },
  {
   "cell_type": "code",
   "execution_count": 59,
   "id": "58384828",
   "metadata": {},
   "outputs": [],
   "source": [
    "pred = model.predict(X_test)"
   ]
  },
  {
   "cell_type": "code",
   "execution_count": 60,
   "id": "e346292d",
   "metadata": {},
   "outputs": [],
   "source": [
    "from sklearn.metrics import classification_report, confusion_matrix"
   ]
  },
  {
   "cell_type": "code",
   "execution_count": 61,
   "id": "759bacb0",
   "metadata": {},
   "outputs": [
    {
     "name": "stdout",
     "output_type": "stream",
     "text": [
      "[[24268     0]\n",
      " [ 1587     0]]\n"
     ]
    }
   ],
   "source": [
    "print(confusion_matrix(y_test, pred))"
   ]
  },
  {
   "cell_type": "markdown",
   "id": "d27f56d6",
   "metadata": {},
   "source": [
    "Aqui já é notável o quão eficaz foi para encontrar os verdadeiros positivos, mas péssimo nos verdadeiros negativos...."
   ]
  },
  {
   "cell_type": "code",
   "execution_count": null,
   "id": "8990f2e2",
   "metadata": {},
   "outputs": [],
   "source": []
  },
  {
   "cell_type": "markdown",
   "id": "2db665c4",
   "metadata": {},
   "source": [
    "Percebi que seria válido ampliar as possibilidades de análise. Bora pro KNN:"
   ]
  },
  {
   "cell_type": "code",
   "execution_count": 18,
   "id": "cf6c146a",
   "metadata": {},
   "outputs": [],
   "source": [
    "from sklearn.preprocessing import StandardScaler"
   ]
  },
  {
   "cell_type": "code",
   "execution_count": 19,
   "id": "baa951e5",
   "metadata": {},
   "outputs": [],
   "source": [
    "scaler = StandardScaler()"
   ]
  },
  {
   "cell_type": "code",
   "execution_count": 20,
   "id": "170e16a0",
   "metadata": {},
   "outputs": [
    {
     "data": {
      "text/plain": [
       "StandardScaler()"
      ]
     },
     "execution_count": 20,
     "metadata": {},
     "output_type": "execute_result"
    }
   ],
   "source": [
    "scaler.fit(dfclean.drop('inadimplente', axis=1))"
   ]
  },
  {
   "cell_type": "code",
   "execution_count": 21,
   "id": "ec887816",
   "metadata": {},
   "outputs": [],
   "source": [
    "df_normalizado = scaler.transform(dfclean.drop('inadimplente', axis=1))"
   ]
  },
  {
   "cell_type": "code",
   "execution_count": 22,
   "id": "70d90fc5",
   "metadata": {},
   "outputs": [],
   "source": [
    "df_param = pd.DataFrame(df_normalizado, columns=dfclean.columns[:-1])"
   ]
  },
  {
   "cell_type": "code",
   "execution_count": 45,
   "id": "4875328c",
   "metadata": {},
   "outputs": [],
   "source": [
    "X_train, X_test, Y_train, Y_test = train_test_split(df_param, dfclean['inadimplente'], test_size=0.1)"
   ]
  },
  {
   "cell_type": "code",
   "execution_count": 43,
   "id": "ee9a2d19",
   "metadata": {},
   "outputs": [],
   "source": [
    "from sklearn.neighbors import KNeighborsClassifier"
   ]
  },
  {
   "cell_type": "code",
   "execution_count": 44,
   "id": "61caaaec",
   "metadata": {},
   "outputs": [],
   "source": [
    "X = df_param\n",
    "y = dfclean['inadimplente']"
   ]
  },
  {
   "cell_type": "code",
   "execution_count": 46,
   "id": "af6fd531",
   "metadata": {},
   "outputs": [],
   "source": [
    "import numpy as np\n",
    "error_rate = []\n",
    "\n",
    "for i in range(1, 30):\n",
    "    knn = KNeighborsClassifier(n_neighbors=i)\n",
    "    knn.fit(X_train, Y_train)\n",
    "    pred = knn.predict(X_test)\n",
    "    error_rate.append(np.mean(pred!=Y_test))"
   ]
  },
  {
   "cell_type": "code",
   "execution_count": 48,
   "id": "47d3c96d",
   "metadata": {},
   "outputs": [
    {
     "data": {
      "text/plain": [
       "Text(0, 0.5, 'Taxa de erro')"
      ]
     },
     "execution_count": 48,
     "metadata": {},
     "output_type": "execute_result"
    },
    {
     "data": {
      "image/png": "[encoded data removed]",
      "text/plain": [
       "<Figure size 1008x576 with 1 Axes>"
      ]
     },
     "metadata": {
      "needs_background": "light"
     },
     "output_type": "display_data"
    }
   ],
   "source": [
    "plt.figure(figsize=(14, 8))\n",
    "plt.plot(range(1, 30), error_rate, color='blue', linestyle='dashed', marker='o')\n",
    "plt.xlabel('K')\n",
    "plt.ylabel('Taxa de erro')"
   ]
  },
  {
   "cell_type": "code",
   "execution_count": 31,
   "id": "103e72a5",
   "metadata": {},
   "outputs": [
    {
     "data": {
      "text/plain": [
       "[0.09251595436085863,\n",
       " 0.06629278669502997,\n",
       " 0.0690388706246374,\n",
       " 0.06567395087990717,\n",
       " 0.06648617288725585,\n",
       " 0.06497776058789402,\n",
       " 0.06490040611100367,\n",
       " 0.06447495648810675,\n",
       " 0.06466834268033263,\n",
       " 0.06428157029588087,\n",
       " 0.06435892477277122,\n",
       " 0.0637787661960936,\n",
       " 0.06374008895764842,\n",
       " 0.0636240572423129,\n",
       " 0.06389479791142913,\n",
       " 0.06370141171920325,\n",
       " 0.06346934828853219,\n",
       " 0.06374008895764842,\n",
       " 0.06346934828853219,\n",
       " 0.06366273448075807,\n",
       " 0.06354670276542256,\n",
       " 0.06374008895764842,\n",
       " 0.06354670276542256,\n",
       " 0.06401082962676465,\n",
       " 0.06385612067298395,\n",
       " 0.06428157029588087,\n",
       " 0.06397215238831948,\n",
       " 0.0642428930574357,\n",
       " 0.06397215238831948,\n",
       " 0.0639334751498743,\n",
       " 0.0639334751498743,\n",
       " 0.0642428930574357,\n",
       " 0.06401082962676465,\n",
       " 0.06420421581899052,\n",
       " 0.06420421581899052,\n",
       " 0.06416553858054536,\n",
       " 0.064088184103655,\n",
       " 0.06416553858054536,\n",
       " 0.0642428930574357]"
      ]
     },
     "execution_count": 31,
     "metadata": {},
     "output_type": "execute_result"
    }
   ],
   "source": [
    "error_rate"
   ]
  },
  {
   "cell_type": "code",
   "execution_count": 49,
   "id": "65dbabc6",
   "metadata": {},
   "outputs": [],
   "source": [
    "error = pd.DataFrame(error_rate)"
   ]
  },
  {
   "cell_type": "code",
   "execution_count": 50,
   "id": "2651ff98",
   "metadata": {},
   "outputs": [],
   "source": [
    "k = error.idxmin()[0] + 1"
   ]
  },
  {
   "cell_type": "code",
   "execution_count": 51,
   "id": "23a97156",
   "metadata": {},
   "outputs": [
    {
     "data": {
      "text/plain": [
       "14"
      ]
     },
     "execution_count": 51,
     "metadata": {},
     "output_type": "execute_result"
    }
   ],
   "source": [
    "k"
   ]
  },
  {
   "cell_type": "code",
   "execution_count": 52,
   "id": "5c16761a",
   "metadata": {},
   "outputs": [],
   "source": [
    "knn = KNeighborsClassifier(n_neighbors=k)\n",
    "knn.fit(X_train, Y_train)\n",
    "pred = knn.predict(X_test)"
   ]
  },
  {
   "cell_type": "code",
   "execution_count": 53,
   "id": "e61410f5",
   "metadata": {},
   "outputs": [
    {
     "name": "stdout",
     "output_type": "stream",
     "text": [
      "              precision    recall  f1-score   support\n",
      "\n",
      "           0       0.94      1.00      0.97      8072\n",
      "           1       0.64      0.04      0.08       547\n",
      "\n",
      "    accuracy                           0.94      8619\n",
      "   macro avg       0.79      0.52      0.52      8619\n",
      "weighted avg       0.92      0.94      0.91      8619\n",
      "\n"
     ]
    }
   ],
   "source": [
    "print(classification_report(Y_test, pred))"
   ]
  },
  {
   "cell_type": "code",
   "execution_count": 54,
   "id": "aaf64ed7",
   "metadata": {},
   "outputs": [
    {
     "name": "stdout",
     "output_type": "stream",
     "text": [
      "[[8059   13]\n",
      " [ 524   23]]\n"
     ]
    }
   ],
   "source": [
    "print(confusion_matrix(Y_test, pred))"
   ]
  },
  {
   "cell_type": "markdown",
   "id": "77cf1557",
   "metadata": {},
   "source": [
    "KNN já ficou mais interessante! No outro arquivo mostro o report do SVM, e o procedimento das trees e forests. Por pouco não considerei a análise KNN. Sinceramente, se eu tivesse poder computacional disponível e não tivesse me preocupado em não demorar para enviar a análise, teria considerado KNN, randomforest e SVM simultaneamente, fazendo com que a previsão final de cada caso fosse o arredondamento da média das previsões dos três métodos. Porém, dependendo dos meios e métodos de um trabalho, vale escolher por vezes não o mais robusto, mas sim o mais simples e eficaz, e assim randomforest ganhou. Além de que mesclar métodos muito diferentes pode causar desvios e erros mais imprevisíveis na análise."
   ]
  },
  {
   "cell_type": "code",
   "execution_count": null,
   "id": "df229637",
   "metadata": {},
   "outputs": [],
   "source": []
  },
  {
   "cell_type": "code",
   "execution_count": 3,
   "id": "261c7c11",
   "metadata": {},
   "outputs": [],
   "source": []
  },
  {
   "cell_type": "code",
   "execution_count": null,
   "id": "b85bc8ef",
   "metadata": {},
   "outputs": [],
   "source": []
  },
  {
   "cell_type": "code",
   "execution_count": null,
   "id": "e178c234",
   "metadata": {},
   "outputs": [],
   "source": []
  },
  {
   "cell_type": "code",
   "execution_count": null,
   "id": "b98bdb8c",
   "metadata": {},
   "outputs": [],
   "source": []
  },
  {
   "cell_type": "code",
   "execution_count": null,
   "id": "e8ae1b4e",
   "metadata": {},
   "outputs": [],
   "source": []
  }
 ],
 "metadata": {
  "kernelspec": {
   "display_name": "Python 3 (ipykernel)",
   "language": "python",
   "name": "python3"
  },
  "language_info": {
   "codemirror_mode": {
    "name": "ipython",
    "version": 3
   },
   "file_extension": ".py",
   "mimetype": "text/x-python",
   "name": "python",
   "nbconvert_exporter": "python",
   "pygments_lexer": "ipython3",
   "version": "3.10.1"
  }
 },
 "nbformat": 4,
 "nbformat_minor": 5
}
